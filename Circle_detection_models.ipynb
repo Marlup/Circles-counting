{
 "cells": [
  {
   "cell_type": "code",
   "execution_count": 2,
   "metadata": {
    "id": "EiAGBXbJWKBO"
   },
   "outputs": [],
   "source": [
    "import numpy as np\n",
    "import matplotlib.pyplot as plt\n",
    "import pandas as pd\n",
    "\n",
    "from tensorflow.keras.layers import ( \n",
    "    MaxPool2D, Conv2D, Input,\n",
    "    BatchNormalization, Dense, Activation,Flatten, Lambda, Add, Concatenate,\n",
    "    GlobalAveragePooling2D,\n",
    "    GlobalMaxPooling2D\n",
    ")\n",
    "\n",
    "from tensorflow.keras import (\n",
    "    Model, Sequential, utils, losses, metrics,\n",
    "    optimizers, backend as K, callbacks,\n",
    "    applications)\n",
    "\n",
    "import h5py\n",
    "import os\n",
    "import seaborn as sns\n",
    "import tensorflow as tf\n",
    "\n",
    "from circles import (\n",
    "    make_complex_circle, \n",
    "    make_simple_circle, \n",
    "    make_complex_dataset, \n",
    "    make_simple_dataset,\n",
    "    make_mesh,\n",
    "    build_variate_dataset,\n",
    "    read_dataset,\n",
    "    run_multiprocess,\n",
    "    structure_data\n",
    ")\n",
    "\n",
    "from utils import (\n",
    "    display_images,\n",
    "    moving_average,\n",
    "    plot_history,\n",
    "    predict_and_errors,\n",
    "    read_image\n",
    ")"
   ]
  },
  {
   "cell_type": "code",
   "execution_count": 3,
   "metadata": {},
   "outputs": [],
   "source": [
    "# Constant values\n",
    "IMG_SIZE = 256\n",
    "BATCH_SIZE = 64"
   ]
  },
  {
   "cell_type": "code",
   "execution_count": 4,
   "metadata": {
    "id": "7jBDHV332JXu"
   },
   "outputs": [],
   "source": [
    "# If you are using google drive...\n",
    "\n",
    "#from google.colab import drive\n",
    "#data_path = 'drive/MyDrive/Notebooks management/Analysis/Circles counting'"
   ]
  },
  {
   "cell_type": "code",
   "execution_count": 5,
   "metadata": {},
   "outputs": [],
   "source": [
    "from tensorflow.python.ops.gen_math_ops import add\n",
    "def cnn_count_model(shape):\n",
    "    w, h, c = shape\n",
    "    inputs = Input([w, h, c])\n",
    "    conv_batch_1 = conv_layer(16, 7, 1)\n",
    "    conv_batch_2 = conv_layer(32, 5, 1)\n",
    "    conv_batch_3 = conv_layer(64, 5, 1)\n",
    "    conv_batch_4 = conv_layer(128, 5, 1, False)\n",
    "    flatten = Flatten()\n",
    "    dense_1 = Dense(150, activation=\"relu\")\n",
    "    outputs = Dense(1, activation=\"linear\")\n",
    "\n",
    "    x = conv_batch_1(inputs)\n",
    "    x = conv_batch_2(x)\n",
    "    x = conv_batch_3(x)\n",
    "    x = conv_batch_4(x)\n",
    "    x = flatten(x)\n",
    "    x = dense_1(x)\n",
    "    outputs = outputs(x)\n",
    "\n",
    "    return Model(inputs, outputs)\n",
    "\n",
    "def conv_layer(n_filters, kernel=3, strides=1, padding='valid', on_max=True):\n",
    "    seq = Sequential(\n",
    "      [\n",
    "       Conv2D(n_filters, kernel, strides, padding),\n",
    "       BatchNormalization(),\n",
    "       Activation('relu')\n",
    "      ]\n",
    "    )\n",
    "    if on_max:\n",
    "        seq.add(MaxPool2D(2, 2))\n",
    "\n",
    "    return seq"
   ]
  },
  {
   "cell_type": "markdown",
   "metadata": {},
   "source": [
    "## 1. Example of image generation, model training and evaluation"
   ]
  },
  {
   "cell_type": "markdown",
   "metadata": {
    "id": "Hchyh-KJGqm7"
   },
   "source": [
    "### One sample image with circles"
   ]
  },
  {
   "cell_type": "markdown",
   "metadata": {},
   "source": [
    "Skip this part if your dataset has already being created"
   ]
  },
  {
   "cell_type": "code",
   "execution_count": null,
   "metadata": {
    "colab": {
     "base_uri": "https://localhost:8080/"
    },
    "id": "QP8wAD02X3jO",
    "outputId": "d7acb56b-99af-41cb-a73c-8dcfe073979b"
   },
   "outputs": [],
   "source": [
    "circle_map = make_simple_circle()\n",
    "print(f\"Shape and number of positive pixels {circle_map.shape}, {circle_map.sum()}\")\n",
    "_ = plt.imshow(circle_map)"
   ]
  },
  {
   "cell_type": "markdown",
   "metadata": {},
   "source": [
    "### Dataset creation"
   ]
  },
  {
   "cell_type": "code",
   "execution_count": null,
   "metadata": {
    "colab": {
     "background_save": true,
     "base_uri": "https://localhost:8080/"
    },
    "id": "XBtqo0B5hb8l",
    "outputId": "2441b0d4-0050-4fbd-8ff7-c958763f62fd"
   },
   "outputs": [],
   "source": [
    "images, target = make_simple_dataset(n_examples=50)\n",
    "target = target.reshape(-1, 1)\n",
    "\n",
    "print(f\"Shape and number of positive pixels {images.shape}, {images.sum()}\")\n",
    "print(f\"Target shape {target.shape}\")\n",
    "_ = plt.imshow(circle_map)"
   ]
  },
  {
   "cell_type": "markdown",
   "metadata": {
    "id": "gR5tYQGRwhxm"
   },
   "source": [
    "### Base model: build and training"
   ]
  },
  {
   "cell_type": "code",
   "execution_count": null,
   "metadata": {
    "id": "S-r7zW9amazC"
   },
   "outputs": [],
   "source": [
    "model = cnn_count_model((128, 128, 1))"
   ]
  },
  {
   "cell_type": "code",
   "execution_count": null,
   "metadata": {
    "colab": {
     "base_uri": "https://localhost:8080/",
     "height": 644
    },
    "id": "9lwjOnGwpeWk",
    "outputId": "8fb652aa-ba37-48c0-858f-8ac03b982207"
   },
   "outputs": [],
   "source": [
    "utils.plot_model(model, show_shapes=True)"
   ]
  },
  {
   "cell_type": "code",
   "execution_count": null,
   "metadata": {
    "colab": {
     "base_uri": "https://localhost:8080/"
    },
    "id": "7tARBbfdqy0O",
    "outputId": "dbc6dfb4-6b78-4fe8-c9b5-1bc867bdab13"
   },
   "outputs": [],
   "source": [
    "initial_learning_rate = 0.05\n",
    "decay_steps = 1.0\n",
    "decay_rate = 0.5\n",
    "schedule = optimizers.schedules.InverseTimeDecay(initial_learning_rate,\n",
    "                                                 decay_steps,\n",
    "                                                 decay_rate)\n",
    "call_backs = [callbacks.EarlyStopping(monitor='val_loss',\n",
    "                                     min_delta=3,\n",
    "                                     patience=10,\n",
    "                                     restore_best_weights=True),\n",
    "             callbacks.LearningRateScheduler(schedule)\n",
    "             ]\n",
    "\n",
    "loss = losses.MeanAbsolutePercentageError()\n",
    "optimizer = optimizers.Adam(learning_rate=initial_learning_rate)\n",
    "metric = [\n",
    "          #metrics.MeanAbsoluteError(),\n",
    "          metrics.MeanSquaredError(),\n",
    "          #metrics.MeanAbsolutePercentageError()]\n",
    "]\n",
    "model.compile(optimizer='rmsprop',\n",
    "              loss=loss,\n",
    "              metrics=metric\n",
    "              )\n",
    "\n",
    "model_history = model.fit(x=images, y=target,\n",
    "                          batch_size=BATCH_SIZE,\n",
    "                          epochs=50,\n",
    "                          shuffle=True,\n",
    "                          validation_split=0.1,\n",
    "                          callbacks=call_backs\n",
    "                          )"
   ]
  },
  {
   "cell_type": "markdown",
   "metadata": {
    "id": "OTAQesER4Ug9"
   },
   "source": [
    "### Evaluation"
   ]
  },
  {
   "cell_type": "markdown",
   "metadata": {
    "id": "8SR1epep4d1w"
   },
   "source": [
    "#### Evaluation over random training data"
   ]
  },
  {
   "cell_type": "code",
   "execution_count": null,
   "metadata": {},
   "outputs": [],
   "source": [
    "output = Lambda(lambda x: K.round(x)) (model.output)"
   ]
  },
  {
   "cell_type": "code",
   "execution_count": null,
   "metadata": {
    "colab": {
     "base_uri": "https://localhost:8080/",
     "height": 873
    },
    "id": "X6TT3gVCyudF",
    "outputId": "647fb383-c901-4a36-b82f-67dc3d07c792"
   },
   "outputs": [],
   "source": [
    "sample_indices = np.random.choice(np.arange(0, len(images)), 10, replace=False)\n",
    "sample_images = images[sample_indices]\n",
    "sample_target = target[sample_indices]\n",
    "\n",
    "predict_and_errors(model, sample_images, sample_target)"
   ]
  },
  {
   "cell_type": "markdown",
   "metadata": {
    "id": "DUHs8h024jow"
   },
   "source": [
    "Evaluation over unseen data with 1 to 10 circles."
   ]
  },
  {
   "cell_type": "code",
   "execution_count": null,
   "metadata": {
    "colab": {
     "base_uri": "https://localhost:8080/"
    },
    "id": "uehVd4ruvX-6",
    "outputId": "25221496-91b1-46e5-d530-a2e2475071e6"
   },
   "outputs": [],
   "source": [
    "test_images, test_target = make_simple_dataset(n_examples=20, min_n_circles=1, max_n_circles=10)\n",
    "test_images.shape, test_target.shape"
   ]
  },
  {
   "cell_type": "code",
   "execution_count": null,
   "metadata": {
    "colab": {
     "base_uri": "https://localhost:8080/",
     "height": 873
    },
    "id": "mfVcrPJZ3PEy",
    "outputId": "73b10b99-86f9-4e1b-a476-7a7d2256d443"
   },
   "outputs": [],
   "source": [
    "predict_and_errors(model, test_images[:5], test_target[:5])"
   ]
  },
  {
   "cell_type": "markdown",
   "metadata": {
    "id": "vOZafkCf4yCw"
   },
   "source": [
    "Evaluation over unseen data with 10 to 50 circles."
   ]
  },
  {
   "cell_type": "code",
   "execution_count": null,
   "metadata": {
    "colab": {
     "base_uri": "https://localhost:8080/"
    },
    "id": "n3fjGoYf7HCU",
    "outputId": "5630448e-0e81-4ec4-c50e-354d32c01b45"
   },
   "outputs": [],
   "source": [
    "test_images_extra, test_extra_target = make_simple_dataset(n_examples=50, min_n_circles=10, max_n_circles=50)\n",
    "test_images_extra.shape, test_extra_target.shape"
   ]
  },
  {
   "cell_type": "code",
   "execution_count": null,
   "metadata": {
    "id": "ykfDwtOpOy3U"
   },
   "outputs": [],
   "source": [
    "pred_extra, error_extra = predict_and_errors(model, \n",
    "                                             test_images_extra, \n",
    "                                             test_extra_target, \n",
    "                                             on_return=True, \n",
    "                                             on_show=False)"
   ]
  },
  {
   "cell_type": "markdown",
   "metadata": {},
   "source": [
    "#### Plot frequency of predicted circle counts"
   ]
  },
  {
   "cell_type": "code",
   "execution_count": null,
   "metadata": {
    "id": "Xcbuv9PIGEuM"
   },
   "outputs": [],
   "source": [
    "def df_evaluation(error, pred):\n",
    "    pred_round = np.round(pred).astype('uint8')\n",
    "    df = pd.DataFrame(data={'error': error.reshape(-1),\n",
    "                            'pred': pred_round.reshape(-1)},\n",
    "                            columns=[\n",
    "                                'error', \n",
    "                                'pred'\n",
    "                                ]\n",
    "                                )\n",
    "    return df.sort_values(\"pred\")"
   ]
  },
  {
   "cell_type": "code",
   "execution_count": null,
   "metadata": {
    "id": "8NZilyeyGTxj"
   },
   "outputs": [],
   "source": [
    "df = df_evaluation(error_extra, pred_extra)\n",
    "sns.barplot(data=df.groupby('pred').mean().reset_index(), \n",
    "            x='pred', \n",
    "            y='error',\n",
    "            )\n",
    "_ = plt.xticks(rotation=30)"
   ]
  },
  {
   "cell_type": "markdown",
   "metadata": {
    "id": "a7o8kLCrUvUl"
   },
   "source": [
    "We see how mean prediction error increases when prediction is higher. This might\n",
    "be because training limited to 1 to 10 range, thus, when unseen examples with more\n",
    "than 10 circles are to be evaluated, the model performs worse."
   ]
  },
  {
   "cell_type": "markdown",
   "metadata": {
    "id": "gGb9ibrnRqr0"
   },
   "source": [
    "Let's check the examples with unusual number of circles to get insights of the distribution of the circles.m"
   ]
  },
  {
   "cell_type": "code",
   "execution_count": null,
   "metadata": {
    "colab": {
     "base_uri": "https://localhost:8080/",
     "height": 873
    },
    "id": "A7CPh22Adnss",
    "outputId": "5deaf0e2-4dd7-45c2-c63c-ef979b0c6dd1"
   },
   "outputs": [],
   "source": [
    "display_images(test_images_extra, \n",
    "               test_extra_target, \n",
    "               n_examples=5)"
   ]
  },
  {
   "cell_type": "markdown",
   "metadata": {
    "id": "mquZoS5PewDv"
   },
   "source": [
    "Many circles overlap with each other, creating a cluster and losing the\n",
    "circle like shape. This might lead the model to not properly detect individual\n",
    "circles. This model downsize could be expected if training set only contains overall perfectly separated circles.\n",
    "\n",
    "However, we can improve the data set maker function to avoid circles from overlapping. Another additional improvement would be using grayscale images, in other words, mostly black background and gray circles with variation of magnitude to allow the model to learn more complex features and end up generalizing in more real-world examples like images taken from cameras."
   ]
  },
  {
   "cell_type": "markdown",
   "metadata": {
    "id": "kFqWjVI0Guwq"
   },
   "source": [
    "## 2. Enhance features of circle dataset functions"
   ]
  },
  {
   "cell_type": "markdown",
   "metadata": {},
   "source": [
    "These new function allows:\n",
    "+ Variate radius (can define min and max radius)\n",
    "+ Variate circle gray intensity\n",
    "+ between-circles separation control\n",
    "+ bounding-walls-to-circles separation control"
   ]
  },
  {
   "cell_type": "code",
   "execution_count": 4,
   "metadata": {},
   "outputs": [
    {
     "data": {
      "text/plain": [
       "(256, 256)"
      ]
     },
     "execution_count": 4,
     "metadata": {},
     "output_type": "execute_result"
    },
    {
     "data": {
      "image/png": "[encoded data removed]",
      "text/plain": [
       "<Figure size 640x480 with 1 Axes>"
      ]
     },
     "metadata": {},
     "output_type": "display_data"
    }
   ],
   "source": [
    "n = 10\n",
    "images = make_complex_circle(n, img_size=256, max_gray=0.0)\n",
    "plt.imshow(images, cmap=\"grey\", origin=\"lower\")\n",
    "images.shape"
   ]
  },
  {
   "cell_type": "markdown",
   "metadata": {
    "id": "3FkarV9b9u0m"
   },
   "source": [
    "#### Make new dataset"
   ]
  },
  {
   "cell_type": "markdown",
   "metadata": {},
   "source": [
    "The next cell will make a dataset of images, but it will take some time to complete it, for example 1 image of shape (256, 256) can take around 2s. In order to make the code run a little faster, we will use a multiprocess function."
   ]
  },
  {
   "cell_type": "markdown",
   "metadata": {},
   "source": []
  },
  {
   "cell_type": "code",
   "execution_count": 3,
   "metadata": {},
   "outputs": [
    {
     "name": "stderr",
     "output_type": "stream",
     "text": [
      "100%|██████████| 10/10 [00:19<00:00,  1.95s/it]"
     ]
    },
    {
     "name": "stdout",
     "output_type": "stream",
     "text": [
      "(10, 256, 256, 1) (10,)\n"
     ]
    },
    {
     "name": "stderr",
     "output_type": "stream",
     "text": [
      "\n"
     ]
    }
   ],
   "source": [
    "# Code below with given parameters might take around 1 hour to be completed\n",
    "#images_gray, target_gray = make_complex_dataset(n_min_examples=10, size=256, max_n_circles=20, on_balanced=False)\n",
    "#print(images_gray.shape, target_gray.shape)"
   ]
  },
  {
   "cell_type": "code",
   "execution_count": 5,
   "metadata": {},
   "outputs": [
    {
     "name": "stdout",
     "output_type": "stream",
     "text": [
      "(1000, 256, 256, 1) (1000,)\n"
     ]
    }
   ],
   "source": [
    "n = 1000\n",
    "n_processes = 10\n",
    "n_per_process = int(n / n_processes)\n",
    "min_n_circles = 1\n",
    "max_n_circles = 20\n",
    "\n",
    "images_gray, target_gray = structure_data(run_multiprocess(make_complex_dataset, \n",
    "                                                           n_processes, \n",
    "                                                           n_per_process, \n",
    "                                                           IMG_SIZE, \n",
    "                                                           min_n_circles, \n",
    "                                                           max_n_circles, \n",
    "                                                           False))\n",
    "print(images_gray.shape, target_gray.shape)"
   ]
  },
  {
   "cell_type": "code",
   "execution_count": 9,
   "metadata": {
    "colab": {
     "background_save": true,
     "base_uri": "https://localhost:8080/"
    },
    "id": "gsgdeOrGziO1",
    "outputId": "91a63599-b21c-414c-9ad7-9a1c6f76f289"
   },
   "outputs": [
    {
     "data": {
      "text/plain": [
       "['.git',\n",
       " '.ipynb_checkpoints',\n",
       " 'circles.py',\n",
       " 'Circle_detection_make_data.ipynb',\n",
       " 'Circle_detection_models.ipynb',\n",
       " 'circle_images_1_20_256_256.hdf5',\n",
       " 'Circle_segmentation.ipynb',\n",
       " 'LICENSE',\n",
       " 'README.md',\n",
       " 'two datasets for testing.zip',\n",
       " 'two real images for testing.zip',\n",
       " 'unit_testing.ipynb',\n",
       " 'utils.py',\n",
       " '__pycache__']"
      ]
     },
     "execution_count": 9,
     "metadata": {},
     "output_type": "execute_result"
    }
   ],
   "source": [
    "# Save the images in h5 format dataset\n",
    "file_name = f\"circle_images_{min_n_circles}_{max_n_circles}_{IMG_SIZE}_{IMG_SIZE}.hdf5\"\n",
    "\n",
    "with h5py.File(f\"./{file_name}\", \"w\") as f:\n",
    "    f.create_dataset(\"images\", data=images_gray)\n",
    "    f.create_dataset(\"target\", data=target_gray)\n",
    "os.listdir()"
   ]
  },
  {
   "cell_type": "markdown",
   "metadata": {},
   "source": [
    "#### Load the dataset from disk"
   ]
  },
  {
   "cell_type": "code",
   "execution_count": 6,
   "metadata": {},
   "outputs": [
    {
     "name": "stdout",
     "output_type": "stream",
     "text": [
      "(1000, 256, 256, 1)\n",
      "(1000,)\n"
     ]
    }
   ],
   "source": [
    "from zipfile import ZipFile\n",
    "\n",
    "with ZipFile('images_with_circles.zip') as zip_handler:\n",
    "    for zip_info in zip_handler.filelist:\n",
    "        f_name = zip_info.filename\n",
    "        if \"20_256_256\" in f_name:\n",
    "            with zip_handler.open(f_name, \"r\") as f:\n",
    "                h5py_file = h5py.File(f)\n",
    "                images_gray = h5py_file.get('images')[:]\n",
    "                target_gray = h5py_file.get('target')[:]\n",
    "print(images_gray.shape)\n",
    "print(target_gray.shape)"
   ]
  },
  {
   "cell_type": "markdown",
   "metadata": {
    "id": "PmraEoLU-6RW"
   },
   "source": [
    "Distribution of number of circles in gray images"
   ]
  },
  {
   "cell_type": "code",
   "execution_count": 6,
   "metadata": {
    "id": "5spEqsFx-v0R"
   },
   "outputs": [
    {
     "data": {
      "text/plain": [
       "<BarContainer object of 20 artists>"
      ]
     },
     "execution_count": 6,
     "metadata": {},
     "output_type": "execute_result"
    },
    {
     "data": {
      "image/png": "[encoded data removed]",
      "text/plain": [
       "<Figure size 640x480 with 1 Axes>"
      ]
     },
     "metadata": {},
     "output_type": "display_data"
    }
   ],
   "source": [
    "u, c = np.unique(target_gray, return_counts=True)\n",
    "plt.bar(x=u, height=c)"
   ]
  },
  {
   "cell_type": "markdown",
   "metadata": {},
   "source": [
    "These parameters don't outcome a proper model\n",
    "\n",
    "+ epochs = 110\n",
    "+ initial_learning_rate = 0.1\n",
    "+ decay_steps = 1.0\n",
    "+ decay_rate = 0.5\n",
    "+ min_delta = 2\n",
    "+ patience = 120\n",
    "\n",
    "Metrics\n",
    "+ metrics.MeanAbsoluteError(),\n",
    "+ metrics.MeanSquaredError(),"
   ]
  },
  {
   "cell_type": "code",
   "execution_count": 10,
   "metadata": {
    "colab": {
     "base_uri": "https://localhost:8080/"
    },
    "id": "5kIaaMYINhAc",
    "outputId": "209f4fef-b18a-408b-8668-8abd81f671f4"
   },
   "outputs": [
    {
     "name": "stdout",
     "output_type": "stream",
     "text": [
      "Epoch 1/80\n",
      "15/15 [==============================] - 29s 2s/step - loss: 55633.3906 - mean_absolute_error: 89.2210 - mean_absolute_percentage_error: 1117.5098 - val_loss: 4088002.5000 - val_mean_absolute_error: 2012.5897 - val_mean_absolute_percentage_error: 29938.6445 - lr: 0.1000\n",
      "Epoch 2/80\n",
      "15/15 [==============================] - 28s 2s/step - loss: 149.4088 - mean_absolute_error: 9.6469 - mean_absolute_percentage_error: 171.1711 - val_loss: 113761.2188 - val_mean_absolute_error: 323.1603 - val_mean_absolute_percentage_error: 3992.3196 - lr: 0.0667\n",
      "Epoch 3/80\n",
      "15/15 [==============================] - 28s 2s/step - loss: 626.5841 - mean_absolute_error: 16.2457 - mean_absolute_percentage_error: 316.8114 - val_loss: 35260.9844 - val_mean_absolute_error: 184.2356 - val_mean_absolute_percentage_error: 2535.0952 - lr: 0.0500\n",
      "Epoch 4/80\n",
      "15/15 [==============================] - 28s 2s/step - loss: 1172.0619 - mean_absolute_error: 31.2356 - mean_absolute_percentage_error: 455.5836 - val_loss: 761.1950 - val_mean_absolute_error: 22.7669 - val_mean_absolute_percentage_error: 476.9132 - lr: 0.0400\n",
      "Epoch 5/80\n",
      "15/15 [==============================] - 27s 2s/step - loss: 569.9224 - mean_absolute_error: 19.3189 - mean_absolute_percentage_error: 268.4351 - val_loss: 10812.9922 - val_mean_absolute_error: 88.6229 - val_mean_absolute_percentage_error: 877.2676 - lr: 0.0333\n",
      "Epoch 6/80\n",
      "15/15 [==============================] - 27s 2s/step - loss: 351.9159 - mean_absolute_error: 14.3655 - mean_absolute_percentage_error: 296.7368 - val_loss: 2285.4470 - val_mean_absolute_error: 45.7710 - val_mean_absolute_percentage_error: 622.3367 - lr: 0.0286\n",
      "Epoch 7/80\n",
      "15/15 [==============================] - 28s 2s/step - loss: 234.7771 - mean_absolute_error: 12.5572 - mean_absolute_percentage_error: 170.0261 - val_loss: 459.3224 - val_mean_absolute_error: 18.9748 - val_mean_absolute_percentage_error: 252.7279 - lr: 0.0250\n",
      "Epoch 8/80\n",
      "15/15 [==============================] - 28s 2s/step - loss: 267.6436 - mean_absolute_error: 13.4063 - mean_absolute_percentage_error: 255.3512 - val_loss: 218.1529 - val_mean_absolute_error: 13.3543 - val_mean_absolute_percentage_error: 267.4022 - lr: 0.0222\n",
      "Epoch 9/80\n",
      "15/15 [==============================] - 28s 2s/step - loss: 102.3390 - mean_absolute_error: 6.5447 - mean_absolute_percentage_error: 73.7592 - val_loss: 335.7821 - val_mean_absolute_error: 15.6525 - val_mean_absolute_percentage_error: 343.6768 - lr: 0.0200\n",
      "Epoch 10/80\n",
      "15/15 [==============================] - 27s 2s/step - loss: 88.6533 - mean_absolute_error: 7.5353 - mean_absolute_percentage_error: 143.9200 - val_loss: 50.3979 - val_mean_absolute_error: 5.2711 - val_mean_absolute_percentage_error: 56.2092 - lr: 0.0182\n",
      "Epoch 11/80\n",
      "15/15 [==============================] - 26s 2s/step - loss: 75.0060 - mean_absolute_error: 6.9741 - mean_absolute_percentage_error: 98.1228 - val_loss: 91.6595 - val_mean_absolute_error: 8.2178 - val_mean_absolute_percentage_error: 182.5654 - lr: 0.0167\n",
      "Epoch 12/80\n",
      "15/15 [==============================] - 26s 2s/step - loss: 47.8976 - mean_absolute_error: 5.6270 - mean_absolute_percentage_error: 111.3626 - val_loss: 115.5130 - val_mean_absolute_error: 9.4126 - val_mean_absolute_percentage_error: 96.8004 - lr: 0.0154\n",
      "Epoch 13/80\n",
      "15/15 [==============================] - 26s 2s/step - loss: 44.4385 - mean_absolute_error: 5.5058 - mean_absolute_percentage_error: 80.9221 - val_loss: 119.6042 - val_mean_absolute_error: 10.0591 - val_mean_absolute_percentage_error: 116.9094 - lr: 0.0143\n",
      "Epoch 14/80\n",
      "15/15 [==============================] - 26s 2s/step - loss: 32.3486 - mean_absolute_error: 4.4360 - mean_absolute_percentage_error: 78.0060 - val_loss: 256.3766 - val_mean_absolute_error: 15.0192 - val_mean_absolute_percentage_error: 176.5273 - lr: 0.0133\n",
      "Epoch 15/80\n",
      "15/15 [==============================] - 26s 2s/step - loss: 25.8038 - mean_absolute_error: 3.9772 - mean_absolute_percentage_error: 56.9035 - val_loss: 33.2130 - val_mean_absolute_error: 4.9734 - val_mean_absolute_percentage_error: 109.7824 - lr: 0.0125\n",
      "Epoch 16/80\n",
      "15/15 [==============================] - 26s 2s/step - loss: 20.6687 - mean_absolute_error: 3.5732 - mean_absolute_percentage_error: 56.9728 - val_loss: 60.3460 - val_mean_absolute_error: 6.1064 - val_mean_absolute_percentage_error: 53.6716 - lr: 0.0118\n",
      "Epoch 17/80\n",
      "15/15 [==============================] - 26s 2s/step - loss: 16.7045 - mean_absolute_error: 3.0975 - mean_absolute_percentage_error: 56.0499 - val_loss: 272.8693 - val_mean_absolute_error: 15.5832 - val_mean_absolute_percentage_error: 198.4330 - lr: 0.0111\n",
      "Epoch 18/80\n",
      "15/15 [==============================] - 26s 2s/step - loss: 18.0174 - mean_absolute_error: 3.0299 - mean_absolute_percentage_error: 46.2460 - val_loss: 225.9951 - val_mean_absolute_error: 14.6796 - val_mean_absolute_percentage_error: 228.1413 - lr: 0.0105\n",
      "Epoch 19/80\n",
      "15/15 [==============================] - 26s 2s/step - loss: 11.7543 - mean_absolute_error: 2.6477 - mean_absolute_percentage_error: 47.1027 - val_loss: 378.9905 - val_mean_absolute_error: 18.8443 - val_mean_absolute_percentage_error: 284.9859 - lr: 0.0100\n",
      "Epoch 20/80\n",
      "15/15 [==============================] - 26s 2s/step - loss: 14.6158 - mean_absolute_error: 2.6404 - mean_absolute_percentage_error: 40.1585 - val_loss: 78.1956 - val_mean_absolute_error: 8.0959 - val_mean_absolute_percentage_error: 111.7114 - lr: 0.0095\n",
      "Epoch 21/80\n",
      "15/15 [==============================] - 26s 2s/step - loss: 7.9369 - mean_absolute_error: 2.1711 - mean_absolute_percentage_error: 30.9144 - val_loss: 164.4969 - val_mean_absolute_error: 11.5376 - val_mean_absolute_percentage_error: 123.0654 - lr: 0.0091\n",
      "Epoch 22/80\n",
      "15/15 [==============================] - 26s 2s/step - loss: 10.7272 - mean_absolute_error: 2.3289 - mean_absolute_percentage_error: 30.9697 - val_loss: 164.8193 - val_mean_absolute_error: 12.3479 - val_mean_absolute_percentage_error: 164.7465 - lr: 0.0087\n",
      "Epoch 23/80\n",
      "15/15 [==============================] - 26s 2s/step - loss: 7.2022 - mean_absolute_error: 1.9643 - mean_absolute_percentage_error: 33.6826 - val_loss: 105.2267 - val_mean_absolute_error: 8.8931 - val_mean_absolute_percentage_error: 84.1345 - lr: 0.0083\n",
      "Epoch 24/80\n",
      "15/15 [==============================] - 26s 2s/step - loss: 8.2806 - mean_absolute_error: 2.1820 - mean_absolute_percentage_error: 36.6987 - val_loss: 139.1000 - val_mean_absolute_error: 11.2434 - val_mean_absolute_percentage_error: 147.9817 - lr: 0.0080\n",
      "Epoch 25/80\n",
      "15/15 [==============================] - 26s 2s/step - loss: 6.1711 - mean_absolute_error: 1.9035 - mean_absolute_percentage_error: 32.3243 - val_loss: 11.7557 - val_mean_absolute_error: 2.6690 - val_mean_absolute_percentage_error: 31.6353 - lr: 0.0077\n",
      "Epoch 26/80\n",
      "15/15 [==============================] - 25s 2s/step - loss: 5.5267 - mean_absolute_error: 1.7607 - mean_absolute_percentage_error: 26.0367 - val_loss: 14.1151 - val_mean_absolute_error: 2.9069 - val_mean_absolute_percentage_error: 26.8534 - lr: 0.0074\n",
      "Epoch 27/80\n",
      "15/15 [==============================] - 26s 2s/step - loss: 4.5108 - mean_absolute_error: 1.6736 - mean_absolute_percentage_error: 31.6901 - val_loss: 118.0808 - val_mean_absolute_error: 10.1536 - val_mean_absolute_percentage_error: 126.1078 - lr: 0.0071\n",
      "Epoch 28/80\n",
      "15/15 [==============================] - 26s 2s/step - loss: 8.4001 - mean_absolute_error: 2.0538 - mean_absolute_percentage_error: 28.6982 - val_loss: 5.0173 - val_mean_absolute_error: 1.7062 - val_mean_absolute_percentage_error: 21.3148 - lr: 0.0069\n",
      "Epoch 29/80\n",
      "15/15 [==============================] - 26s 2s/step - loss: 2.5965 - mean_absolute_error: 1.3202 - mean_absolute_percentage_error: 21.8243 - val_loss: 47.6421 - val_mean_absolute_error: 5.9854 - val_mean_absolute_percentage_error: 63.9158 - lr: 0.0067\n",
      "Epoch 30/80\n",
      "15/15 [==============================] - 26s 2s/step - loss: 4.5526 - mean_absolute_error: 1.5581 - mean_absolute_percentage_error: 19.3628 - val_loss: 70.7670 - val_mean_absolute_error: 7.1431 - val_mean_absolute_percentage_error: 61.7723 - lr: 0.0065\n",
      "Epoch 31/80\n",
      "15/15 [==============================] - 26s 2s/step - loss: 4.9246 - mean_absolute_error: 1.6317 - mean_absolute_percentage_error: 25.3094 - val_loss: 31.9149 - val_mean_absolute_error: 4.8787 - val_mean_absolute_percentage_error: 49.7129 - lr: 0.0063\n",
      "Epoch 32/80\n",
      "15/15 [==============================] - 26s 2s/step - loss: 3.2902 - mean_absolute_error: 1.3813 - mean_absolute_percentage_error: 18.6141 - val_loss: 43.9021 - val_mean_absolute_error: 6.0718 - val_mean_absolute_percentage_error: 83.0160 - lr: 0.0061\n",
      "Epoch 33/80\n",
      "15/15 [==============================] - 26s 2s/step - loss: 3.4505 - mean_absolute_error: 1.3211 - mean_absolute_percentage_error: 21.3471 - val_loss: 78.2681 - val_mean_absolute_error: 8.2768 - val_mean_absolute_percentage_error: 103.7397 - lr: 0.0059\n",
      "Epoch 34/80\n",
      "15/15 [==============================] - 26s 2s/step - loss: 3.5672 - mean_absolute_error: 1.4007 - mean_absolute_percentage_error: 21.5561 - val_loss: 48.2342 - val_mean_absolute_error: 6.0772 - val_mean_absolute_percentage_error: 61.7657 - lr: 0.0057\n",
      "Epoch 35/80\n",
      "15/15 [==============================] - 26s 2s/step - loss: 2.7361 - mean_absolute_error: 1.2595 - mean_absolute_percentage_error: 17.9239 - val_loss: 18.1977 - val_mean_absolute_error: 3.3191 - val_mean_absolute_percentage_error: 27.2360 - lr: 0.0056\n",
      "Epoch 36/80\n",
      "15/15 [==============================] - 26s 2s/step - loss: 3.6185 - mean_absolute_error: 1.5203 - mean_absolute_percentage_error: 21.8616 - val_loss: 9.4766 - val_mean_absolute_error: 2.3360 - val_mean_absolute_percentage_error: 25.2742 - lr: 0.0054\n",
      "Epoch 37/80\n",
      "15/15 [==============================] - 26s 2s/step - loss: 2.2851 - mean_absolute_error: 1.0498 - mean_absolute_percentage_error: 14.5413 - val_loss: 7.1444 - val_mean_absolute_error: 2.3304 - val_mean_absolute_percentage_error: 45.6279 - lr: 0.0053\n",
      "Epoch 38/80\n",
      "15/15 [==============================] - 26s 2s/step - loss: 3.6314 - mean_absolute_error: 1.4307 - mean_absolute_percentage_error: 20.9047 - val_loss: 7.7909 - val_mean_absolute_error: 2.2676 - val_mean_absolute_percentage_error: 34.5638 - lr: 0.0051\n",
      "Epoch 39/80\n",
      "15/15 [==============================] - 26s 2s/step - loss: 1.9430 - mean_absolute_error: 1.0692 - mean_absolute_percentage_error: 15.0153 - val_loss: 4.2447 - val_mean_absolute_error: 1.5224 - val_mean_absolute_percentage_error: 18.3884 - lr: 0.0050\n"
     ]
    },
    {
     "data": {
      "text/plain": [
       "<keras.src.callbacks.History at 0x13229afba10>"
      ]
     },
     "execution_count": 10,
     "metadata": {},
     "output_type": "execute_result"
    }
   ],
   "source": [
    "model_2 = cnn_count_model((IMG_SIZE, IMG_SIZE, 1))\n",
    "\n",
    "epochs = 100\n",
    "patience = 10\n",
    "initial_learning_rate = 0.1\n",
    "decay_steps = 1.0\n",
    "decay_rate = 0.5\n",
    "\n",
    "## Callbacks\n",
    "# Time decay callback\n",
    "schedule = optimizers.schedules.InverseTimeDecay(\n",
    "    initial_learning_rate,\n",
    "    decay_steps,\n",
    "    decay_rate\n",
    ")\n",
    "call_backs = [callbacks.EarlyStopping(\n",
    "    monitor='loss',\n",
    "    min_delta=1.0,\n",
    "    patience=patience,\n",
    "    restore_best_weights=True),\n",
    "              callbacks.LearningRateScheduler(schedule)\n",
    "             ]\n",
    "\n",
    "# Loss\n",
    "loss = losses.MeanSquaredError()\n",
    "# Optimizer\n",
    "optimizer = optimizers.Adam(learning_rate=initial_learning_rate)\n",
    "# Metrics\n",
    "metric = [\n",
    "    metrics.MeanAbsoluteError(),\n",
    "    #metrics.MeanSquaredError(),\n",
    "    metrics.MeanAbsolutePercentageError()\n",
    "]\n",
    "# Compilation and model fitting\n",
    "model_2.compile(\n",
    "    optimizer='rmsprop',\n",
    "    loss=loss,\n",
    "    metrics=metric\n",
    ")\n",
    "\n",
    "model_history_2 = model_2.fit(x=images_gray, y=target_gray,\n",
    "                              batch_size=BATCH_SIZE,\n",
    "                              epochs=epochs,\n",
    "                              shuffle=True,\n",
    "                              validation_split=0.1,\n",
    "                              callbacks=call_backs\n",
    "                              )\n",
    "\n",
    "model_history_2"
   ]
  },
  {
   "cell_type": "code",
   "execution_count": 11,
   "metadata": {},
   "outputs": [],
   "source": [
    "model_2.save(\"counter_4_conv2DBatch_1_hidden.keras\")"
   ]
  },
  {
   "cell_type": "code",
   "execution_count": 12,
   "metadata": {
    "colab": {
     "base_uri": "https://localhost:8080/",
     "height": 269
    },
    "id": "fxaNQ9xwR-fM",
    "outputId": "6a4c4b8a-0794-49ba-9546-a8c5da5d44d6"
   },
   "outputs": [
    {
     "data": {
      "image/png": "[encoded data removed]",
      "text/plain": [
       "<Figure size 640x480 with 1 Axes>"
      ]
     },
     "metadata": {},
     "output_type": "display_data"
    }
   ],
   "source": [
    "plot_history(model_history_2, lim=(0, 100, 0, 1000))"
   ]
  },
  {
   "cell_type": "markdown",
   "metadata": {},
   "source": [
    "Evaluation of training set sample"
   ]
  },
  {
   "cell_type": "code",
   "execution_count": 13,
   "metadata": {
    "colab": {
     "base_uri": "https://localhost:8080/",
     "height": 873
    },
    "id": "UjNPHBiLFfcb",
    "outputId": "79022ae1-fb8b-4d57-dbeb-420a181b90fa"
   },
   "outputs": [
    {
     "name": "stdout",
     "output_type": "stream",
     "text": [
      "1/1 [==============================] - 0s 201ms/step\n"
     ]
    },
    {
     "data": {
      "text/plain": [
       "(None, None)"
      ]
     },
     "execution_count": 13,
     "metadata": {},
     "output_type": "execute_result"
    },
    {
     "data": {
      "image/png": "[encoded data removed]",
      "text/plain": [
       "<Figure size 1200x1200 with 10 Axes>"
      ]
     },
     "metadata": {},
     "output_type": "display_data"
    }
   ],
   "source": [
    "n_samples = 10\n",
    "\n",
    "sample_indices = np.random.choice(np.arange(0, len(images_gray)), \n",
    "                                  n_samples, \n",
    "                                  replace=False)\n",
    "sample_images = images_gray[sample_indices]\n",
    "sample_target = target_gray[sample_indices].reshape(-1, 1)\n",
    "\n",
    "predict_and_errors(model_2, sample_images, sample_target)"
   ]
  },
  {
   "cell_type": "code",
   "execution_count": 30,
   "metadata": {
    "colab": {
     "base_uri": "https://localhost:8080/"
    },
    "id": "9B_zdxGTyPdP",
    "outputId": "b55de42f-1db8-43de-fd93-2fc3305cea56"
   },
   "outputs": [],
   "source": [
    "test_images, test_target = structure_data(run_multiprocess(make_complex_dataset, \n",
    "                                                           100, \n",
    "                                                           int(100/10), \n",
    "                                                           IMG_SIZE, \n",
    "                                                           1, \n",
    "                                                           40, \n",
    "                                                           False))\n",
    "test_target = test_target.reshape(-1, 1)"
   ]
  },
  {
   "cell_type": "code",
   "execution_count": null,
   "metadata": {
    "colab": {
     "base_uri": "https://localhost:8080/"
    },
    "id": "_AKekfMxFo5t",
    "outputId": "6ce86de7-e11c-4b0d-cd99-8053a853e488"
   },
   "outputs": [],
   "source": [
    "print(test_images.shape, test_target.shape)\n",
    "pred_test, error_test =  predict_and_errors(model_2, \n",
    "                                            test_images, \n",
    "                                            test_target, \n",
    "                                            on_show=False, \n",
    "                                            on_return=True)"
   ]
  },
  {
   "cell_type": "code",
   "execution_count": null,
   "metadata": {
    "colab": {
     "base_uri": "https://localhost:8080/",
     "height": 873
    },
    "id": "VbP6tuwZUG8L",
    "outputId": "1a07d9f5-3622-4679-be93-6e48d36773ce"
   },
   "outputs": [],
   "source": [
    "predict_and_errors(model_2, test_images[:8], test_target[:8])"
   ]
  },
  {
   "cell_type": "code",
   "execution_count": null,
   "metadata": {
    "colab": {
     "base_uri": "https://localhost:8080/",
     "height": 336
    },
    "id": "hpTPVLXz310N",
    "outputId": "1a807dcc-0982-48c2-b23a-f0d3130daa1f"
   },
   "outputs": [],
   "source": [
    "pred_test, error_test =  predict_and_errors(model_2, test_images, test_target, on_show=False, on_return=True)\n",
    "df = df_evaluation(error_test, pred_test)\n",
    "sns.barplot(data=df.groupby('pred').mean().reset_index(), x='pred', y='error')\n",
    "plt.xticks(rotation=30)"
   ]
  },
  {
   "cell_type": "code",
   "execution_count": null,
   "metadata": {
    "colab": {
     "base_uri": "https://localhost:8080/",
     "height": 336
    },
    "id": "UB9v0xiAIgHV",
    "outputId": "9f39066a-e9dc-427f-fdf4-501072b882be"
   },
   "outputs": [],
   "source": [
    "pred_test, error_test =  predict_and_errors(model_2, test_images, test_target, on_show=False, on_return=True)\n",
    "df = df_evaluation(error_test, pred_test)\n",
    "sns.barplot(data=df.groupby('pred').mean().reset_index(), x='pred', y='error')\n",
    "plt.xticks(rotation=30)"
   ]
  },
  {
   "cell_type": "code",
   "execution_count": null,
   "metadata": {
    "colab": {
     "base_uri": "https://localhost:8080/",
     "height": 386
    },
    "id": "cMKFKRaZInme",
    "outputId": "97f9c48d-bc89-4bd7-cfd0-27e5714899dd"
   },
   "outputs": [],
   "source": [
    "pred_test, error_test =  predict_and_errors(model_4, test_images, test_target, on_show=False, on_return=True)\n",
    "df = df_evaluation(error_test, pred_test)\n",
    "sns.barplot(data=df.groupby('pred').mean().reset_index(), x='pred', y='error')\n",
    "plt.xticks(rotation=30)"
   ]
  },
  {
   "cell_type": "markdown",
   "metadata": {
    "id": "Y5adzP19TjRB"
   },
   "source": [
    "We conclude that model with MAPE loss gives better performance in terms of lower absolute error, even with values out of the training range up to 17 circles, for which we find the mean error (difference is 2).\n",
    "\n",
    "We could try to improve this by\n",
    "\n",
    "- Increasing number of filters in cnn layers.\n",
    "- Better kernel, for example 3 to 5 or 5 to 7, size and downsampling\n",
    "- Adding more cnn layers\n",
    "- Adding skip layers (resnet) (concatenation or addition)"
   ]
  },
  {
   "cell_type": "markdown",
   "metadata": {},
   "source": [
    "### Convolutional counting model with residual connection"
   ]
  },
  {
   "cell_type": "code",
   "execution_count": null,
   "metadata": {},
   "outputs": [],
   "source": [
    "def res_cnn_counter(shape):\n",
    "    w, h, c = shape\n",
    "    inputs = Input([w, h, c])\n",
    "    conv_batch_1_1 = conv_layer(16, 7, 1)\n",
    "    conv_batch_1_2 = conv_layer(16, 7, 1, \"same\", False)\n",
    "    conv_batch_2_1 = conv_layer(32, 5, 1)\n",
    "    conv_batch_2_2 = conv_layer(32, 5, 1, \"same\", False)\n",
    "    conv_batch_3_1 = conv_layer(64, 5, 1)\n",
    "    conv_batch_3_2 = conv_layer(64, 5, 1, \"same\", False)\n",
    "    conv_batch_4_1 = conv_layer(128, 5, 1)\n",
    "    flatten = Flatten()\n",
    "    dense_1 = Dense(150, activation=\"relu\")\n",
    "    outputs = Dense(1, activation=\"linear\")\n",
    "\n",
    "    # Sublayer\n",
    "    x = conv_batch_1_1(inputs)\n",
    "    x = conv_batch_1_2(x) + x\n",
    "\n",
    "    x = conv_batch_2_1(x)\n",
    "    x = conv_batch_2_2(x) + x\n",
    "\n",
    "    x = conv_batch_3_1(x)\n",
    "    x = conv_batch_3_2(x) + x\n",
    "\n",
    "    x = conv_batch_4_1(x)\n",
    "\n",
    "    x = flatten(x)\n",
    "    x = dense_1(x)\n",
    "    outputs = outputs(x)\n",
    "\n",
    "    return Model(inputs, outputs)"
   ]
  },
  {
   "cell_type": "markdown",
   "metadata": {
    "id": "Pz0BQ2aMG2hv"
   },
   "source": [
    "## Pretrained VGG16 model"
   ]
  },
  {
   "cell_type": "code",
   "execution_count": null,
   "metadata": {
    "id": "lqxph4IrDHpa"
   },
   "outputs": [],
   "source": [
    "pretrained_vgg = applications.VGG16(\n",
    "    include_top=False,\n",
    "    weights=\"imagenet\",\n",
    "    input_tensor=None,\n",
    "    input_shape=(224, 224, 3),\n",
    "    pooling='max',\n",
    "    classes=None,\n",
    "    classifier_activation=None\n",
    ")\n",
    "\n",
    "vgg_preprocess = applications.vgg16.preprocess_input"
   ]
  },
  {
   "cell_type": "code",
   "execution_count": null,
   "metadata": {
    "id": "FOJnLQmdXkUY"
   },
   "outputs": [],
   "source": [
    "import tensorflow as tf"
   ]
  },
  {
   "cell_type": "code",
   "execution_count": null,
   "metadata": {
    "id": "0PAFX7aXvP2B"
   },
   "outputs": [],
   "source": [
    "from tensorflow.keras.layers import Layer"
   ]
  },
  {
   "cell_type": "code",
   "execution_count": null,
   "metadata": {
    "id": "PWm2vx1QCq7u"
   },
   "outputs": [],
   "source": [
    "def model_vgg_plus_dense(vgg_layers, extra_layers, input_shape):\n",
    "    inputs = Input(input_shape)\n",
    "    x = inputs\n",
    "    for l in vgg_layers:\n",
    "        x = l(x)\n",
    "\n",
    "    for l in extra_layers:\n",
    "        x = l(x)\n",
    "    outputs = x\n",
    "    return Model(inputs=inputs, outputs=outputs)"
   ]
  },
  {
   "cell_type": "code",
   "execution_count": null,
   "metadata": {
    "colab": {
     "base_uri": "https://localhost:8080/"
    },
    "id": "i94rO2CxF2Lk",
    "outputId": "276ec889-04a6-4c61-de08-4cef28c5386c"
   },
   "outputs": [],
   "source": [
    "n_layers = 6\n",
    "selected_layers = [x for x in pretrained_vgg.layers[1:n_layers + 1]] # [pretrained_vgg.layers[-1]\n",
    "[x.output.shape for x in selected_layers]"
   ]
  },
  {
   "cell_type": "code",
   "execution_count": null,
   "metadata": {
    "id": "4Rqu1lQRDmmY"
   },
   "outputs": [],
   "source": [
    "layers = [\n",
    "          tf.keras.layers.GlobalMaxPooling2D(),\n",
    "          Dense(64, activation='relu'),\n",
    "          Dense(128, activation='relu'),\n",
    "          Dense(1, activation='linear')\n",
    "        ]"
   ]
  },
  {
   "cell_type": "code",
   "execution_count": null,
   "metadata": {
    "colab": {
     "base_uri": "https://localhost:8080/"
    },
    "id": "oFuRqEHNDjsG",
    "outputId": "bb7fc458-f8ab-4472-a5df-36b10124ddfc"
   },
   "outputs": [],
   "source": [
    "model_pretrained = model_vgg_plus_dense(selected_layers, layers, [224, 224, 3])\n",
    "model_pretrained.summary()"
   ]
  },
  {
   "cell_type": "code",
   "execution_count": null,
   "metadata": {
    "colab": {
     "base_uri": "https://localhost:8080/"
    },
    "id": "IEr97YMfwuCx",
    "outputId": "e28f2849-fa83-4cb5-a1e5-77fea7df63ee"
   },
   "outputs": [],
   "source": [
    "images_gray_3_channel = tf.repeat(images_gray, 3, axis=-1)\n",
    "images_gray_3_channel.shape"
   ]
  },
  {
   "cell_type": "code",
   "execution_count": null,
   "metadata": {
    "colab": {
     "base_uri": "https://localhost:8080/"
    },
    "id": "9z-2bEAqW9VU",
    "outputId": "0a8cfe85-06fb-4f78-bb25-5d4803b54798"
   },
   "outputs": [],
   "source": [
    "patience = 200\n",
    "epochs = 50\n",
    "initial_learning_rate = 0.1\n",
    "decay_steps = 1.0\n",
    "decay_rate = 0.5\n",
    "schedule = optimizers.schedules.InverseTimeDecay(initial_learning_rate,\n",
    "                                                 decay_steps,\n",
    "                                                 decay_rate)\n",
    "call_backs = [callbacks.EarlyStopping(monitor='loss',\n",
    "                                     min_delta=2,\n",
    "                                     patience=patience,\n",
    "                                     restore_best_weights=True),\n",
    "             callbacks.LearningRateScheduler(schedule)\n",
    "             ]\n",
    "\n",
    "loss = losses.MeanAbsolutePercentageError()\n",
    "optimizer = optimizers.Adam(learning_rate=initial_learning_rate)\n",
    "metric = [\n",
    "          metrics.MeanAbsoluteError(),\n",
    "          metrics.MeanSquaredError(),\n",
    "          #metrics.MeanAbsolutePercentageError()]\n",
    "]\n",
    "model_pretrained.compile(optimizer=optimizer,\n",
    "                loss=loss,\n",
    "                metrics=metric\n",
    "                )\n",
    "model_pretrained_history = model_pretrained.fit(x=images_gray_3_channel, y=target_gray,\n",
    "                              batch_size=100,\n",
    "                              epochs=epochs,\n",
    "                              shuffle=True,\n",
    "                              validation_split=0.1,\n",
    "                              callbacks=call_backs\n",
    "                              )"
   ]
  },
  {
   "cell_type": "code",
   "execution_count": null,
   "metadata": {
    "colab": {
     "base_uri": "https://localhost:8080/",
     "height": 269
    },
    "id": "8QJgPNgV8uO8",
    "outputId": "82d2f2e3-b4be-4d88-d302-df38a33dadf8"
   },
   "outputs": [],
   "source": [
    "plot_history(model_pretrained_history, lim=[0, 55, 70, 100])"
   ]
  },
  {
   "cell_type": "markdown",
   "metadata": {
    "id": "bnIQ8qgjXbMp"
   },
   "source": [
    "## Real-world images"
   ]
  },
  {
   "cell_type": "code",
   "execution_count": null,
   "metadata": {
    "id": "vaZTGIrc44r_"
   },
   "outputs": [],
   "source": [
    "def read_image(data_path, img_path):\n",
    "    full_path = os.path.join(data_path, img_path)\n",
    "    img = utils.load_img(full_path,\n",
    "                         grayscale=True,\n",
    "                         color_mode='rgb',\n",
    "                         target_size=(224, 224),\n",
    "                         interpolation='nearest',\n",
    "                         )\n",
    "    img = utils.img_to_array(img, data_format='channels_last', dtype=None)\n",
    "    return img"
   ]
  },
  {
   "cell_type": "code",
   "execution_count": null,
   "metadata": {
    "colab": {
     "base_uri": "https://localhost:8080/"
    },
    "id": "Y-jXLozF2CtM",
    "outputId": "10f4ca64-1239-4e50-cbd8-e7bf502b23d2"
   },
   "outputs": [],
   "source": [
    "os.listdir()"
   ]
  },
  {
   "cell_type": "code",
   "execution_count": null,
   "metadata": {
    "colab": {
     "base_uri": "https://localhost:8080/"
    },
    "id": "alKMKiVp2NSj",
    "outputId": "1d01140b-5c32-4dc8-d4c0-c80d9d04657a"
   },
   "outputs": [],
   "source": [
    "test_img_0 = read_image(data_path, 'real_image_0.jpg')\n",
    "test_img_0 = tf.expand_dims(test_img_0, axis=0)\n",
    "test_img_1 = read_image(data_path, 'real_image_1.jpg')\n",
    "test_img_1 = tf.expand_dims(test_img_1, axis=0)"
   ]
  },
  {
   "cell_type": "code",
   "execution_count": null,
   "metadata": {
    "colab": {
     "base_uri": "https://localhost:8080/",
     "height": 286
    },
    "id": "ACa3Ks015MVA",
    "outputId": "b3f8d762-9f23-4596-ef58-709994deed06"
   },
   "outputs": [],
   "source": [
    "plt.imshow(test_img_0[..., 0], cmap='Greys_r')"
   ]
  },
  {
   "cell_type": "code",
   "execution_count": null,
   "metadata": {
    "colab": {
     "base_uri": "https://localhost:8080/",
     "height": 286
    },
    "id": "59kC1Q5q5l2P",
    "outputId": "3eada691-08e5-4a82-9bcf-fd11c7b704b3"
   },
   "outputs": [],
   "source": [
    "plt.imshow(test_img_1[..., 0], cmap='Greys_r')"
   ]
  },
  {
   "cell_type": "code",
   "execution_count": null,
   "metadata": {
    "colab": {
     "base_uri": "https://localhost:8080/"
    },
    "id": "i8QTUjq76BiU",
    "outputId": "62040fd1-b151-45eb-f436-24304c5f6c6a"
   },
   "outputs": [],
   "source": []
  },
  {
   "cell_type": "code",
   "execution_count": null,
   "metadata": {
    "id": "9dau-IBb2m9P"
   },
   "outputs": [],
   "source": [
    "p, e = predict_and_errors(model_2, \n",
    "                          tf.concat([test_img_0, test_img_1], \n",
    "                                    axis=0), \n",
    "                          [14, 6], \n",
    "                          on_show=False, \n",
    "                          on_return=True)\n",
    "test_img_0.shape, p, e "
   ]
  },
  {
   "cell_type": "code",
   "execution_count": null,
   "metadata": {
    "colab": {
     "base_uri": "https://localhost:8080/"
    },
    "id": "CMPYWS5k5aNE",
    "outputId": "652fd6d5-25b0-4f04-9b02-b6bfdb1c2f4f"
   },
   "outputs": [],
   "source": [
    "p"
   ]
  },
  {
   "cell_type": "code",
   "execution_count": null,
   "metadata": {
    "colab": {
     "base_uri": "https://localhost:8080/"
    },
    "id": "dOmLhdNL6qf2",
    "outputId": "f056983f-a7c1-4d5f-b86e-8a43f392cb51"
   },
   "outputs": [],
   "source": []
  },
  {
   "cell_type": "markdown",
   "metadata": {
    "id": "-Ob6MT6x6rIY"
   },
   "source": [
    "## Noise addition to image background"
   ]
  },
  {
   "cell_type": "code",
   "execution_count": null,
   "metadata": {
    "id": "onLHCdExwolw"
   },
   "outputs": [],
   "source": [
    "from tensorflow.python.ops.gen_math_ops import add\n",
    "def cnn_count_model(shape):\n",
    "    w, h, c = shape\n",
    "    inputs = Input([w, h, c])\n",
    "    layer_1 = conv_layer(16, 5, 1)\n",
    "    layer_2 = conv_layer(32, 5, 1)\n",
    "    layer_3 = conv_layer(64, 5, 1)\n",
    "    layer_4 = conv_layer(128, 5, 2)\n",
    "    #layer_5 = Conv2D(32, 1, 1)\n",
    "    flatten = Flatten()\n",
    "    layer_6 = Dense(1, activation=\"linear\")\n",
    "\n",
    "    x = layer_1(inputs)\n",
    "    x = layer_2(x)\n",
    "    x = layer_3(x)\n",
    "    x = layer_4(x)\n",
    "    #x = layer_5(x)\n",
    "    x = flatten(x)\n",
    "    outputs = layer_6(x)\n",
    "\n",
    "    return Model(inputs, outputs)\n",
    "\n",
    "def conv_layer(n_filters, kernel=3, strides=1, padding='valid', on_max=True):\n",
    "    seq = Sequential(\n",
    "      [\n",
    "       Conv2D(n_filters, kernel, strides, padding),\n",
    "       Activation('relu'),\n",
    "       BatchNormalization(),\n",
    "      ]\n",
    "    )\n",
    "    if on_max:\n",
    "    seq.add(MaxPool2D(2, 2))\n",
    "\n",
    "    return seq"
   ]
  },
  {
   "cell_type": "code",
   "execution_count": null,
   "metadata": {
    "colab": {
     "base_uri": "https://localhost:8080/"
    },
    "id": "abbs5hFTFIwr",
    "outputId": "448b6678-45f1-4ec8-d2e0-697db061fc7a"
   },
   "outputs": [],
   "source": [
    "drive.mount('drive')"
   ]
  },
  {
   "cell_type": "code",
   "execution_count": null,
   "metadata": {
    "id": "4tgXUTU8xO1L"
   },
   "outputs": [],
   "source": [
    "def build_variate_dataset(root_path,\n",
    "                          file_name,\n",
    "                          noises_strength=[0.05],\n",
    "                          on_shuffle=True,\n",
    "                          ):\n",
    "    images_gray, y = read_dataset(root_path, file_name)\n",
    "    stacks = []\n",
    "    stacks.append(images_gray)\n",
    "    for noise_strength in noises_strength:\n",
    "        stacks.append(images_gray + noise_strength * np.random.rand(*images_gray.shape))\n",
    "    images_concat = np.concatenate(stacks, axis=0)\n",
    "    images_values_inverted = np.ones(images_concat.shape) - images_concat\n",
    "    images_concat = np.concatenate([images_concat,\n",
    "                                  images_values_inverted], axis=0)\n",
    "    n_stacks = 2 * len(stacks)\n",
    "    y_concat = np.concatenate([y] * n_stacks,\n",
    "                              axis=0)\n",
    "    if on_shuffle:\n",
    "        indices = np.arange(len(images_concat))\n",
    "        np.random.shuffle(indices)\n",
    "        images_concat = images_concat[indices]\n",
    "        y_concat = y_concat[indices]\n",
    "    return np.clip(images_concat, 0.0, 1.0), y_concat\n",
    "\n",
    "def read_dataset(root_path, file_name):\n",
    "    file_path = os.path.join(root_path, file_name)\n",
    "    with h5py.File(file_path, \"r\") as f:\n",
    "        images_gray = f.get('images')[:]\n",
    "        target_gray = f.get('target')[:]\n",
    "    print(\"Shape of extracted images:\", images_gray.shape)\n",
    "    print(\"Shape of extracted targets:\", target_gray.shape)\n",
    "    return images_gray, target_gray"
   ]
  },
  {
   "cell_type": "code",
   "execution_count": null,
   "metadata": {
    "colab": {
     "base_uri": "https://localhost:8080/",
     "height": 503
    },
    "id": "EJ5SNE_zFrOG",
    "outputId": "6ce68aae-d19c-437a-d74a-9a6d52c5c37d"
   },
   "outputs": [],
   "source": [
    "file_name = \"circle_images_20_224_224.hdf5\"\n",
    "root_path = data_path\n",
    "\n",
    "images_concat, y_concat = build_variate_dataset(root_path,\n",
    "                                                file_name,\n",
    "                                                noises_strength=[0.05,\n",
    "                                                                 0.15,\n",
    "                                                                 0.3,\n",
    "                                                                ]\n",
    "                                               )\n",
    "print(images_concat.shape, y_concat.shape)\n",
    "plt.imshow(images_concat[0], cmap=\"Greys_r\")"
   ]
  },
  {
   "cell_type": "code",
   "execution_count": null,
   "metadata": {
    "colab": {
     "base_uri": "https://localhost:8080/"
    },
    "id": "x6WzlKEgEqji",
    "outputId": "4d725c65-d247-46a5-a1d6-47f36b5f6b58"
   },
   "outputs": [],
   "source": [
    "model_part_4_id_1 = cnn_count_model((224, 224, 1))\n",
    "\n",
    "# Setup\n",
    "epochs = 200\n",
    "patience = 500\n",
    "initial_learning_rate = 0.01\n",
    "decay_steps = 1.0\n",
    "decay_rate = 0.1\n",
    "batch_size = 128\n",
    "val_split = 0.1\n",
    "on_shuffle = False\n",
    "# schedule\n",
    "schedule = optimizers.schedules.InverseTimeDecay(initial_learning_rate,\n",
    "                                                 decay_steps,\n",
    "                                                 decay_rate)\n",
    "# Callbacks\n",
    "call_backs = [callbacks.EarlyStopping(monitor='loss',\n",
    "                                     min_delta=0.5,\n",
    "                                     patience=patience,\n",
    "                                     restore_best_weights=True),\n",
    "             callbacks.LearningRateScheduler(schedule)\n",
    "             ]\n",
    "# Loss, optimizer and metric\n",
    "loss = losses.MeanSquaredError()\n",
    "optimizer = optimizers.Adam(learning_rate=initial_learning_rate)\n",
    "metric = [\n",
    "          metrics.MeanAbsoluteError(),\n",
    "          metrics.MeanAbsolutePercentageError()\n",
    "          ]\n",
    "# Model compilation and training (fit)\n",
    "model_part_4_id_1.compile(optimizer=optimizer,\n",
    "                          loss=loss,\n",
    "                          metrics=metric\n",
    "                          )\n",
    "\n",
    "history_part_4_id_1 = model_part_4_id_1.fit(x=images_concat,\n",
    "                                            y=y_concat,\n",
    "                                            batch_size=batch_size,\n",
    "                                            epochs=epochs,\n",
    "                                            shuffle=on_shuffle,\n",
    "                                            validation_split=val_split,\n",
    "                                            callbacks=call_backs\n",
    "                                            )"
   ]
  },
  {
   "cell_type": "code",
   "execution_count": null,
   "metadata": {
    "colab": {
     "base_uri": "https://localhost:8080/",
     "height": 754
    },
    "id": "3lRXCYwFCWTV",
    "outputId": "88cf3bdc-a7b0-4af4-e10d-266268e36f65"
   },
   "outputs": [],
   "source": [
    "utils.plot_model(model_part_4_id_1, show_shapes=True)"
   ]
  },
  {
   "cell_type": "code",
   "execution_count": null,
   "metadata": {
    "colab": {
     "base_uri": "https://localhost:8080/",
     "height": 435
    },
    "id": "QvQX6y1iGGGP",
    "outputId": "014e3aed-0de0-4b05-c591-b926aba15f94"
   },
   "outputs": [],
   "source": [
    "plot_history(history_part_4_id_1, lim=(0, epochs, 0, 20))"
   ]
  },
  {
   "cell_type": "code",
   "execution_count": null,
   "metadata": {
    "id": "teFexK27BTus"
   },
   "outputs": [],
   "source": [
    "model_part_4_id_1.save(\"./circle counter_1_1 to 20_mixed training.keras\")"
   ]
  },
  {
   "cell_type": "code",
   "execution_count": null,
   "metadata": {
    "colab": {
     "base_uri": "https://localhost:8080/",
     "height": 1000
    },
    "id": "h9Iqq2aBI0hf",
    "outputId": "9c508400-daa4-45bf-f248-374803cde39d"
   },
   "outputs": [],
   "source": [
    "sample_indices = np.random.choice(np.arange(0, len(images_concat)), 10, replace=False)\n",
    "sample_images = images_concat[sample_indices]\n",
    "sample_target = y_concat[sample_indices]\n",
    "\n",
    "predict_and_errors(model_part_4_id_1, sample_images, sample_target)"
   ]
  },
  {
   "cell_type": "code",
   "execution_count": null,
   "metadata": {
    "colab": {
     "base_uri": "https://localhost:8080/",
     "height": 1000
    },
    "id": "uxEKhFvxH6lN",
    "outputId": "1768cadc-8c62-4790-f172-1d090740c2a7"
   },
   "outputs": [],
   "source": [
    "test_images, test_target = make_data(n_examples=10, size=224, min_n_circles=1, max_n_circles=10)\n",
    "print(test_images.shape, test_target.shape)\n",
    "\n",
    "predict_and_errors(model_part_4_id_1, test_images, test_target)"
   ]
  },
  {
   "cell_type": "code",
   "execution_count": null,
   "metadata": {
    "colab": {
     "base_uri": "https://localhost:8080/",
     "height": 469
    },
    "id": "os385yEgPMqP",
    "outputId": "c919faf5-8a86-4f33-f889-56d65556caa3"
   },
   "outputs": [],
   "source": [
    "print(model_part_4_id_1(test_images[[5]]))\n",
    "plt.imshow(test_images[5], cmap=\"Greys_r\")"
   ]
  },
  {
   "cell_type": "markdown",
   "metadata": {
    "id": "r5AWRh2YQbEb"
   },
   "source": [
    "#### from fully dense layer to GAP (Global average pooling) layer on top"
   ]
  },
  {
   "cell_type": "code",
   "execution_count": null,
   "metadata": {
    "id": "pL4HbQqXtEWw"
   },
   "outputs": [],
   "source": [
    "from tensorflow.python.ops.gen_math_ops import add\n",
    "def cnn_count_model(shape):\n",
    "    w, h, c = shape\n",
    "    inputs = Input([w, h, c])\n",
    "    layer_1 = conv_layer(16, 7, 1, padding=\"same\", on_max=False)\n",
    "    layer_2 = conv_layer(16, 7, 1, on_max=True)\n",
    "    layer_3 = conv_layer(32, 5, 1, on_max=False)\n",
    "    layer_4 = conv_layer(32, 5, 2, on_max=True)\n",
    "    layer_5 = conv_layer(64, 3, 1, on_max=False)\n",
    "    layer_6 = conv_layer(64, 3, 1, on_max=False)\n",
    "    layer_7 = GlobalAveragePooling2D()\n",
    "    layer_8 = Dense(1, activation=\"linear\")\n",
    "\n",
    "    x = layer_1(inputs)\n",
    "    x = layer_2(x)\n",
    "    x = layer_3(x)\n",
    "    x = layer_4(x)\n",
    "    x = layer_5(x)\n",
    "    x = layer_6(x)\n",
    "    x = layer_7(x)\n",
    "    outputs = layer_8(x)\n",
    "\n",
    "    return Model(inputs, outputs)\n",
    "\n",
    "def conv_layer(n_filters, kernel=3, strides=1, padding='valid', on_max=True):\n",
    "    seq = Sequential(\n",
    "        [\n",
    "           Conv2D(n_filters, kernel, strides, padding),\n",
    "           Activation('relu'),\n",
    "           BatchNormalization(),\n",
    "        ]\n",
    "    )\n",
    "    if on_max:\n",
    "        seq.add(MaxPool2D(2, 2))\n",
    "\n",
    "    return seq"
   ]
  },
  {
   "cell_type": "markdown",
   "metadata": {},
   "source": [
    "## Segmentation models with pytorch"
   ]
  },
  {
   "cell_type": "code",
   "execution_count": null,
   "metadata": {},
   "outputs": [],
   "source": [
    "from torch import nn\n",
    "\n",
    "import torch\n",
    "\n",
    "from torchvision import models\n",
    "from torchvision.transforms import v2\n",
    "from torchsummary import summary\n",
    "\n",
    "torch.manual_seed(0)\n",
    "\n",
    "from torchvision.models.detection import (\n",
    "    maskrcnn_resnet50_fpn_v2,\n",
    "    MaskRCNN_ResNet50_FPN_V2_Weights\n",
    ")\n",
    "\n",
    "model = models.get_model(\"maskrcnn_resnet50_fpn_v2\", \n",
    "                         weights=\"MaskRCNN_ResNet50_FPN_V2_Weights.COCO_V1\", \n",
    "                         weights_backbone=None)\n",
    "\n",
    "weights = MaskRCNN_ResNet50_FPN_V2_Weights.DEFAULT\n",
    "transforms = weights.transforms()\n",
    "model = maskrcnn_resnet50_fpn_v2()\n",
    "model.training = False\n",
    "model"
   ]
  }
 ],
 "metadata": {
  "accelerator": "GPU",
  "colab": {
   "collapsed_sections": [
    "Hchyh-KJGqm7",
    "kFqWjVI0Guwq",
    "Pz0BQ2aMG2hv",
    "bnIQ8qgjXbMp"
   ],
   "gpuType": "T4",
   "provenance": []
  },
  "kernelspec": {
   "display_name": "Python 3 (ipykernel)",
   "language": "python",
   "name": "python3"
  },
  "language_info": {
   "codemirror_mode": {
    "name": "ipython",
    "version": 3
   },
   "file_extension": ".py",
   "mimetype": "text/x-python",
   "name": "python",
   "nbconvert_exporter": "python",
   "pygments_lexer": "ipython3",
   "version": "3.11.0"
  }
 },
 "nbformat": 4,
 "nbformat_minor": 1
}

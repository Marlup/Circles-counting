{
 "cells": [
  {
   "cell_type": "code",
   "execution_count": null,
   "metadata": {},
   "outputs": [],
   "source": [
    "import IPython"
   ]
  },
  {
   "cell_type": "code",
   "execution_count": 1,
   "metadata": {},
   "outputs": [
    {
     "name": "stdout",
     "output_type": "stream",
     "text": [
      "Collecting h5py\n",
      "  Downloading h5py-3.9.0-cp39-cp39-win_amd64.whl (2.7 MB)\n",
      "     ---------------------------------------- 2.7/2.7 MB 5.7 MB/s eta 0:00:00\n",
      "Requirement already satisfied: numpy>=1.17.3 in c:\\users\\marsu\\anaconda3\\lib\\site-packages (from h5py) (1.24.1)\n",
      "Installing collected packages: h5py\n",
      "Successfully installed h5py-3.9.0\n"
     ]
    }
   ],
   "source": [
    "!pip install h5py"
   ]
  },
  {
   "cell_type": "code",
   "execution_count": null,
   "metadata": {},
   "outputs": [],
   "source": [
    "!pip uninstall h5py"
   ]
  },
  {
   "cell_type": "code",
   "execution_count": 8,
   "metadata": {
    "id": "EiAGBXbJWKBO"
   },
   "outputs": [],
   "source": [
    "import numpy as np\n",
    "import matplotlib.pyplot as plt\n",
    "import matplotlib.font_manager\n",
    "from mpl_toolkits.mplot3d import Axes3D\n",
    "from sklearn import svm\n",
    "from matplotlib import cm\n",
    "from IPython.display import Image\n",
    "from tqdm import tqdm\n",
    "import pandas as pd\n",
    "\n",
    "from tensorflow.keras.layers import ( MaxPool2D, Conv2D, Input,\n",
    "                                     BatchNormalization, Dense, Activation,\n",
    "                                     Flatten, Lambda, Add, Concatenate)\n",
    "from tensorflow.keras import (Model, Sequential, utils, losses, metrics,\n",
    "                              optimizers, backend as K, callbacks,\n",
    "                              applications)\n",
    "\n",
    "import h5py\n",
    "import os\n",
    "import seaborn as sns\n",
    "import tensorflow as tf"
   ]
  },
  {
   "cell_type": "code",
   "execution_count": null,
   "metadata": {},
   "outputs": [],
   "source": [
    "from circles import (\n",
    "    make_circles_enhance, \n",
    "    make_circles_simple, \n",
    "    make_data_enhance, \n",
    "    make_dataset,\n",
    "    make_mesh\n",
    ")\n",
    "\n",
    "from utils import (\n",
    "    display_images,\n",
    "    moving_average,\n",
    "    plot_history,\n",
    "    predict_and_errors,\n",
    "    read_image \n",
    ")"
   ]
  },
  {
   "cell_type": "code",
   "execution_count": null,
   "metadata": {
    "id": "PVZnj0521qNR"
   },
   "outputs": [],
   "source": [
    "point = np.random.rand(2, 100) * 5\n",
    "x, y = point"
   ]
  },
  {
   "cell_type": "code",
   "execution_count": null,
   "metadata": {
    "colab": {
     "base_uri": "https://localhost:8080/"
    },
    "id": "sUFNWm7NEObb",
    "outputId": "ce573f60-94ef-41e6-c9b1-45121740f555"
   },
   "outputs": [],
   "source": [
    "c = [-2.5, -2.5] # out\n",
    "t = func_square(point, c[0], c[1], 1, 1)\n",
    "t"
   ]
  },
  {
   "cell_type": "code",
   "execution_count": null,
   "metadata": {
    "colab": {
     "base_uri": "https://localhost:8080/"
    },
    "id": "QP8wAD02X3jO",
    "outputId": "af18917d-d855-4e93-c791-ac584c43e86f"
   },
   "outputs": [],
   "source": [
    "circle_map = make_circles()"
   ]
  },
  {
   "cell_type": "code",
   "execution_count": null,
   "metadata": {
    "colab": {
     "base_uri": "https://localhost:8080/"
    },
    "id": "IXTDvP3EYI3a",
    "outputId": "4a539840-0d25-4aac-fc6d-1b50b3fb600a"
   },
   "outputs": [],
   "source": [
    "circle_map.shape, circle_map.sum()"
   ]
  },
  {
   "cell_type": "code",
   "execution_count": null,
   "metadata": {
    "colab": {
     "base_uri": "https://localhost:8080/",
     "height": 285
    },
    "id": "U6K_0oA2bKZR",
    "outputId": "88a93b9e-7951-4ebf-bdc1-576d694b2454"
   },
   "outputs": [],
   "source": [
    "plt.imshow(circle_map)"
   ]
  },
  {
   "cell_type": "code",
   "execution_count": null,
   "metadata": {
    "colab": {
     "base_uri": "https://localhost:8080/"
    },
    "id": "XBtqo0B5hb8l",
    "outputId": "516ec4df-81ad-4040-ac23-af30c6a1aa0e"
   },
   "outputs": [],
   "source": [
    "images, target = make_data(n_examples=1000)\n",
    "images.shape, target.shape"
   ]
  },
  {
   "cell_type": "code",
   "execution_count": null,
   "metadata": {
    "id": "DA4ZYialNtjC"
   },
   "outputs": [],
   "source": [
    "target = target.reshape(-1, 1)"
   ]
  },
  {
   "cell_type": "code",
   "execution_count": null,
   "metadata": {
    "colab": {
     "base_uri": "https://localhost:8080/",
     "height": 873
    },
    "id": "A7CPh22Adnss",
    "outputId": "5deaf0e2-4dd7-45c2-c63c-ef979b0c6dd1"
   },
   "outputs": [],
   "source": [
    "display_images(test_images_extra, test_extra_target, n_examples=5)"
   ]
  },
  {
   "cell_type": "markdown",
   "metadata": {
    "id": "mquZoS5PewDv"
   },
   "source": [
    "We see that many circles overlap each other, creating a cluster and losing the\n",
    "circle like shape. This might lead the model to not properly detect individual\n",
    "circles. This model downsize could be expected if training set only contains overall perfectly separated circles.\n",
    "\n",
    "However, we can improve the dataset maker function to avoid circles from overlapping. Another additional improvement would be using grayscale images, in other words, mostly black background and gray circles with variation of magnitude to allow the model to learn more complex features and end up generalizing in more real-world examples like images taken from cameras."
   ]
  },
  {
   "cell_type": "code",
   "execution_count": null,
   "metadata": {
    "colab": {
     "base_uri": "https://localhost:8080/"
    },
    "id": "jKxeNu74uAFs",
    "outputId": "70c69c6d-c084-49c3-824f-500349874165"
   },
   "outputs": [],
   "source": [
    "xy0 = np.random.uniform(low=-10, high=10, size=(10, 2))\n",
    "xy0_test = xy0[7]\n",
    "xy0_test = np.array([0.1, 0.2])\n",
    "func = lambda x: ((x[..., 0] - xy0_test[0]) ** 2 + (x[..., 1] - xy0_test[1]) ** 2) <= 1**2\n",
    "any([func(x) for x in xy0])"
   ]
  },
  {
   "cell_type": "code",
   "execution_count": null,
   "metadata": {
    "id": "JqdnFwtwzHKf"
   },
   "outputs": [],
   "source": [
    "circle = make_circles(n_circles=10, r0=None, img_size=128)"
   ]
  },
  {
   "cell_type": "code",
   "execution_count": null,
   "metadata": {
    "colab": {
     "base_uri": "https://localhost:8080/",
     "height": 285
    },
    "id": "XUUJfR-8zKJ4",
    "outputId": "b3f6c3af-9fe0-4633-dc8b-cdd1a79a32f6"
   },
   "outputs": [],
   "source": [
    "plt.imshow(circle, cmap='Greys_r')"
   ]
  },
  {
   "cell_type": "markdown",
   "metadata": {
    "id": "3FkarV9b9u0m"
   },
   "source": [
    "#### Make new dataset"
   ]
  },
  {
   "cell_type": "code",
   "execution_count": 9,
   "metadata": {
    "colab": {
     "base_uri": "https://localhost:8080/"
    },
    "id": "gsgdeOrGziO1",
    "outputId": "00c9469c-48a6-4a9a-ff39-6e0ff79d8bd3"
   },
   "outputs": [],
   "source": [
    "max_n_circles = 20\n",
    "size_w, size_h = 224, 224\n",
    "images_gray, target_gray = make_data(n_examples=1000, max_n_circles=20, size=224)\n",
    "images_gray.shape, target_gray.shape"
   ]
  },
  {
   "cell_type": "code",
   "execution_count": null,
   "metadata": {
    "colab": {
     "base_uri": "https://localhost:8080/"
    },
    "id": "PwCk27j6xzvq",
    "outputId": "115574fd-071f-40f6-a4c0-c916a1e9a57e"
   },
   "outputs": [],
   "source": [
    "os.listdir()"
   ]
  },
  {
   "cell_type": "markdown",
   "metadata": {},
   "source": [
    "Save the files into h5 format"
   ]
  },
  {
   "cell_type": "code",
   "execution_count": null,
   "metadata": {
    "id": "1XTFj5mew2fC"
   },
   "outputs": [],
   "source": [
    "f\"circle_images_{max_n_circles}_{size_w}_{size_h}.hdf5\"\n",
    "with h5py.File(f\"./{file_name}\", \"w\") as f:\n",
    "    f.create_dataset(\"images\", data=images_gray)\n",
    "    f.create_dataset(\"target\", data=target_gray)"
   ]
  },
  {
   "cell_type": "markdown",
   "metadata": {},
   "source": [
    "Check the savings"
   ]
  },
  {
   "cell_type": "code",
   "execution_count": null,
   "metadata": {
    "colab": {
     "base_uri": "https://localhost:8080/"
    },
    "id": "Z3RQopNZyarV",
    "outputId": "a7ef9d0d-4fa3-4055-9259-3ef635458361"
   },
   "outputs": [],
   "source": [
    "os.listdir('drive/MyDrive/Data and datasets')"
   ]
  },
  {
   "cell_type": "markdown",
   "metadata": {},
   "source": [
    "Read the h5 files previously saved"
   ]
  },
  {
   "cell_type": "code",
   "execution_count": null,
   "metadata": {
    "colab": {
     "base_uri": "https://localhost:8080/"
    },
    "id": "r0diXpsi-xm9",
    "outputId": "e2b097fa-5dd8-4ea5-fe24-027c045ce6f8"
   },
   "outputs": [],
   "source": [
    "file_name = f\"circle_images_{max_n_circles}_{size_w}_{size_h}.hdf5\"\n",
    "with h5py.File(f\"./{file_name}\", \"r\") as f:\n",
    "    images_gray = f.get('images')[:]\n",
    "    target_gray = f.get('target')[:]\n",
    "print(images_gray.shape)\n",
    "print(target_gray.shape)"
   ]
  },
  {
   "cell_type": "markdown",
   "metadata": {
    "id": "PmraEoLU-6RW"
   },
   "source": [
    "Distribution of number of circles in gray images"
   ]
  },
  {
   "cell_type": "code",
   "execution_count": null,
   "metadata": {
    "id": "5spEqsFx-v0R"
   },
   "outputs": [],
   "source": [
    "u, c = np.unique(target_gray, return_counts=True)"
   ]
  },
  {
   "cell_type": "markdown",
   "metadata": {},
   "source": [
    "Let's check the distribution of circles with a plot"
   ]
  },
  {
   "cell_type": "code",
   "execution_count": null,
   "metadata": {
    "colab": {
     "base_uri": "https://localhost:8080/",
     "height": 282
    },
    "id": "0LVg5TMo-1A-",
    "outputId": "26e00557-b533-4aa9-bd0c-550c943ff4b9"
   },
   "outputs": [],
   "source": [
    "plt.bar(x=u, height=c)"
   ]
  },
  {
   "cell_type": "markdown",
   "metadata": {
    "id": "bnIQ8qgjXbMp"
   },
   "source": [
    "Equally distributed"
   ]
  },
  {
   "cell_type": "code",
   "execution_count": null,
   "metadata": {},
   "outputs": [],
   "source": []
  }
 ],
 "metadata": {
  "accelerator": "GPU",
  "colab": {
   "provenance": []
  },
  "gpuClass": "standard",
  "kernelspec": {
   "display_name": "Python 3 (ipykernel)",
   "language": "python",
   "name": "python3"
  },
  "language_info": {
   "codemirror_mode": {
    "name": "ipython",
    "version": 3
   },
   "file_extension": ".py",
   "mimetype": "text/x-python",
   "name": "python",
   "nbconvert_exporter": "python",
   "pygments_lexer": "ipython3",
   "version": "3.9.13"
  }
 },
 "nbformat": 4,
 "nbformat_minor": 1
}

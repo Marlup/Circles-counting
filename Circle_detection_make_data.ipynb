{
 "cells": [
  {
   "cell_type": "code",
   "execution_count": null,
   "metadata": {},
   "outputs": [],
   "source": [
    "import IPython"
   ]
  },
  {
   "cell_type": "code",
   "execution_count": 1,
   "metadata": {},
   "outputs": [
    {
     "name": "stdout",
     "output_type": "stream",
     "text": [
      "Collecting h5py\n",
      "  Downloading h5py-3.9.0-cp39-cp39-win_amd64.whl (2.7 MB)\n",
      "     ---------------------------------------- 2.7/2.7 MB 5.7 MB/s eta 0:00:00\n",
      "Requirement already satisfied: numpy>=1.17.3 in c:\\users\\marsu\\anaconda3\\lib\\site-packages (from h5py) (1.24.1)\n",
      "Installing collected packages: h5py\n",
      "Successfully installed h5py-3.9.0\n"
     ]
    }
   ],
   "source": [
    "!pip install h5py"
   ]
  },
  {
   "cell_type": "code",
   "execution_count": null,
   "metadata": {},
   "outputs": [],
   "source": [
    "!pip uninstall h5py"
   ]
  },
  {
   "cell_type": "code",
   "execution_count": 8,
   "metadata": {
    "id": "EiAGBXbJWKBO"
   },
   "outputs": [],
   "source": [
    "import numpy as np\n",
    "import matplotlib.pyplot as plt\n",
    "import matplotlib.font_manager\n",
    "from mpl_toolkits.mplot3d import Axes3D\n",
    "from sklearn import svm\n",
    "from matplotlib import cm\n",
    "from IPython.display import Image\n",
    "from tqdm import tqdm\n",
    "import pandas as pd\n",
    "\n",
    "from tensorflow.keras.layers import ( MaxPool2D, Conv2D, Input,\n",
    "                                     BatchNormalization, Dense, Activation,\n",
    "                                     Flatten, Lambda, Add, Concatenate)\n",
    "from tensorflow.keras import (Model, Sequential, utils, losses, metrics,\n",
    "                              optimizers, backend as K, callbacks,\n",
    "                              applications)\n",
    "\n",
    "import h5py\n",
    "import os\n",
    "import seaborn as sns\n",
    "import tensorflow as tf"
   ]
  },
  {
   "cell_type": "code",
   "execution_count": 6,
   "metadata": {
    "id": "xIAadhc_yTtM"
   },
   "outputs": [],
   "source": [
    "def read_image(path):\n",
    "    img = utils.read_image(path,\n",
    "                         grayscale=True,\n",
    "                         color_mode='rgb',\n",
    "                         target_size=(224, 224),\n",
    "                         interpolation='nearest',\n",
    "                         keep_aspect_ratio=True\n",
    "                         )\n",
    "    img = utils.img_to_array(img, data_format='channels_last', dtype=tf.float64)\n",
    "    return img"
   ]
  },
  {
   "cell_type": "code",
   "execution_count": 3,
   "metadata": {
    "id": "DkGgN8S6CU08"
   },
   "outputs": [],
   "source": [
    "def func_square_DEP0(x, y, x0, y0, width, height):\n",
    "    \"\"\"\n",
    "    Output:\n",
    "        Map of integers with values which are either outside or inside the square.\n",
    "      \"\"\"\n",
    "    on_in_horizontal = np.greater_equal(x, x0) & np.less_equal(x, x0 + width)\n",
    "    on_in_vertical = np.greater_equal(y, y0 - height) & np.less_equal(y, y0)\n",
    "    return np.logical_and(on_in_horizontal, on_in_vertical)\n",
    "\n",
    "def func_square_DEP1(x, y, x0, y0, width, height):\n",
    "    \"\"\"\n",
    "    Output:\n",
    "        Map of integers with values which are either outside or inside the square.\n",
    "    \"\"\"\n",
    "    return np.abs(x - x0) + np.abs(y - y0)  <= 1\n",
    "\n",
    "def func_square(point, x0, y0, width, height):\n",
    "    \"\"\"\n",
    "    Output:\n",
    "        Map of integers with values which are either outside or inside the square.\n",
    "  \"\"\"\n",
    "    shape = point.shape\n",
    "    if shape[0] == 2:\n",
    "        x, y = point\n",
    "    else:\n",
    "        x, y = point.transpose(1, 0)\n",
    "\n",
    "    if width == height:\n",
    "        c = width\n",
    "    else:\n",
    "        c = width\n",
    "    return np.less_equal(np.maximum(np.abs(x - x0), np.abs(y - y0)), c)"
   ]
  },
  {
   "cell_type": "code",
   "execution_count": null,
   "metadata": {
    "id": "PVZnj0521qNR"
   },
   "outputs": [],
   "source": [
    "point = np.random.rand(2, 100) * 5\n",
    "x, y = point"
   ]
  },
  {
   "cell_type": "code",
   "execution_count": null,
   "metadata": {
    "colab": {
     "base_uri": "https://localhost:8080/"
    },
    "id": "sUFNWm7NEObb",
    "outputId": "ce573f60-94ef-41e6-c9b1-45121740f555"
   },
   "outputs": [],
   "source": [
    "c = [-2.5, -2.5] # out\n",
    "t = func_square(point, c[0], c[1], 1, 1)\n",
    "t"
   ]
  },
  {
   "cell_type": "code",
   "execution_count": 7,
   "metadata": {
    "id": "J5Y4c9aBWMz_"
   },
   "outputs": [],
   "source": [
    "def make_circles(xy0=None, r=1, n_circles=10, x_bound=10, y_bound=10, plus=0.5, img_size=128):\n",
    "    xxyy = make_mesh(-x_bound, y_bound, img_size)\n",
    "    #print(f'...Mesh shape: {xxyy.shape}...')\n",
    "    stacks = []\n",
    "    if xy0 is None:\n",
    "        low = x_bound - (plus + r / 2)\n",
    "        high = y_bound - (plus + r / 2)\n",
    "        xy0 = np.random.uniform(low=-low, high=high, size=(n_circles, 2))\n",
    "    for x0, y0 in tqdm(xy0):\n",
    "        func = lambda x: ((x[..., 0] - x0) ** 2 + (x[..., 1] - y0) ** 2) <= r**2\n",
    "        stacks.append(np.apply_along_axis(func, 2, xxyy))\n",
    "    return np.clip(np.stack(stacks, axis=-1).sum(axis=-1), 0, 1).astype(np.uint8)\n",
    "\n",
    "def make_mesh(x_b, y_b, size=128):\n",
    "    xx, yy = np.meshgrid(np.linspace(-x_b, x_b, size), np.linspace(-y_b, y_b, size))\n",
    "    return np.concatenate([np.expand_dims(xx, axis=-1), np.expand_dims(yy, axis=-1)], axis=2)"
   ]
  },
  {
   "cell_type": "code",
   "execution_count": null,
   "metadata": {
    "colab": {
     "base_uri": "https://localhost:8080/"
    },
    "id": "QP8wAD02X3jO",
    "outputId": "af18917d-d855-4e93-c791-ac584c43e86f"
   },
   "outputs": [],
   "source": [
    "circle_map = make_circles()"
   ]
  },
  {
   "cell_type": "code",
   "execution_count": null,
   "metadata": {
    "colab": {
     "base_uri": "https://localhost:8080/"
    },
    "id": "IXTDvP3EYI3a",
    "outputId": "4a539840-0d25-4aac-fc6d-1b50b3fb600a"
   },
   "outputs": [],
   "source": [
    "circle_map.shape, circle_map.sum()"
   ]
  },
  {
   "cell_type": "code",
   "execution_count": null,
   "metadata": {
    "colab": {
     "base_uri": "https://localhost:8080/",
     "height": 285
    },
    "id": "U6K_0oA2bKZR",
    "outputId": "88a93b9e-7951-4ebf-bdc1-576d694b2454"
   },
   "outputs": [],
   "source": [
    "plt.imshow(circle_map)"
   ]
  },
  {
   "cell_type": "code",
   "execution_count": null,
   "metadata": {
    "id": "wvsaOoO6M5a1"
   },
   "outputs": [],
   "source": [
    "def make_data(n_examples=20, min_n_circles=1, max_n_circles=10, size=128):\n",
    "    y = np.random.randint(min_n_circles, max_n_circles + 1, (n_examples, 1))\n",
    "\n",
    "    imgs = [make_circles(n_circles=n.item(), img_size=size) for n in tqdm(y)]\n",
    "    imgs = np.stack(imgs, axis=-1)\n",
    "    imgs = imgs.transpose(2, 0, 1)\n",
    "    imgs = np.expand_dims(imgs, axis=-1)\n",
    "    return imgs, y.reshape(-1, 1)"
   ]
  },
  {
   "cell_type": "code",
   "execution_count": null,
   "metadata": {
    "colab": {
     "base_uri": "https://localhost:8080/"
    },
    "id": "XBtqo0B5hb8l",
    "outputId": "516ec4df-81ad-4040-ac23-af30c6a1aa0e"
   },
   "outputs": [],
   "source": [
    "images, target = make_data(n_examples=1000)\n",
    "images.shape, target.shape"
   ]
  },
  {
   "cell_type": "code",
   "execution_count": null,
   "metadata": {
    "id": "DA4ZYialNtjC"
   },
   "outputs": [],
   "source": [
    "target = target.reshape(-1, 1)"
   ]
  },
  {
   "cell_type": "code",
   "execution_count": null,
   "metadata": {
    "colab": {
     "base_uri": "https://localhost:8080/",
     "height": 873
    },
    "id": "A7CPh22Adnss",
    "outputId": "5deaf0e2-4dd7-45c2-c63c-ef979b0c6dd1"
   },
   "outputs": [],
   "source": [
    "display_images(test_images_extra, test_extra_target, n_examples=5)"
   ]
  },
  {
   "cell_type": "markdown",
   "metadata": {
    "id": "mquZoS5PewDv"
   },
   "source": [
    "We see that many circles overlap each other, creating a cluster and losing the\n",
    "circle like shape. This might lead the model to not properly detect individual\n",
    "circles. This model downsize could be expected if training set only contains overall perfectly separated circles.\n",
    "\n",
    "However, we can improve the dataset maker function to avoid circles from overlapping. Another additional improvement would be using grayscale images, in other words, mostly black background and gray circles with variation of magnitude to allow the model to learn more complex features and end up generalizing in more real-world examples like images taken from cameras."
   ]
  },
  {
   "cell_type": "code",
   "execution_count": null,
   "metadata": {
    "colab": {
     "base_uri": "https://localhost:8080/"
    },
    "id": "jKxeNu74uAFs",
    "outputId": "70c69c6d-c084-49c3-824f-500349874165"
   },
   "outputs": [],
   "source": [
    "xy0 = np.random.uniform(low=-10, high=10, size=(10, 2))\n",
    "xy0_test = xy0[7]\n",
    "xy0_test = np.array([0.1, 0.2])\n",
    "func = lambda x: ((x[..., 0] - xy0_test[0]) ** 2 + (x[..., 1] - xy0_test[1]) ** 2) <= 1**2\n",
    "any([func(x) for x in xy0])"
   ]
  },
  {
   "cell_type": "code",
   "execution_count": null,
   "metadata": {
    "id": "szJn5QLJrHq0"
   },
   "outputs": [],
   "source": [
    "def make_circles(xy0=None, r0=None, min_r=0.5, max_r=1.0, n_circles=10, x_bound=10, y_bound=10, extra_bound_separation=2, img_size=128, extra_circle_separation=0.1, max_gray=0.2):\n",
    "    xxyy = make_mesh(-x_bound, y_bound, img_size)\n",
    "    #print(f'...Mesh shape: {xxyy.shape}...')\n",
    "    stacks = []\n",
    "    new_center_tries = 10\n",
    "    _on_random_r = False\n",
    "    if r0 is None:\n",
    "        _on_random_r = True\n",
    "\n",
    "    if xy0 is None:\n",
    "        max_radius = 1\n",
    "        low = x_bound - (extra_bound_separation + max_radius / 2)\n",
    "        high = y_bound - (extra_bound_separation + max_radius / 2)\n",
    "        centers = np.random.uniform(low=-low, high=high, size=(n_circles, 2))\n",
    "    func = lambda x: ((x[..., 0] - x0) ** 2 + (x[..., 1] - y0) ** 2) <= r**2\n",
    "\n",
    "    for idx, (x0, y0) in enumerate(centers):\n",
    "        if _on_random_r:\n",
    "            r0 = np.random.rand(1).item()\n",
    "            r0 = change_interval(r0, [0, 1], [min_r, max_r])\n",
    "        r = 2 * r0 + extra_circle_separation\n",
    "\n",
    "    c = 0\n",
    "    while any([func(x) for i, x in enumerate(centers) if i != idx]):\n",
    "        if c >= new_center_tries:\n",
    "            break\n",
    "        #print('\\n...Center inside other circle. Assigning new center...')\n",
    "        center_aux = np.random.uniform(low=-low, high=high, size=(2, ))\n",
    "        x0, y0 = center_aux\n",
    "        centers[idx] = center_aux\n",
    "        if _on_random_r:\n",
    "            r0 = np.random.rand(1).item()\n",
    "            r0 = change_interval(r0, [0, 1], [min_r, max_r])\n",
    "        c += 1\n",
    "        r = r0\n",
    "        stacks.append(np.apply_along_axis(func, 2, xxyy))\n",
    "    stacks = np.stack(stacks, axis=-1).sum(axis=-1)\n",
    "    stacks = np.clip(stacks, 0, 1).astype(np.uint8)\n",
    "    return max_gray * stacks * np.random.rand(*stacks.shape)\n",
    "\n",
    "\n",
    "def make_mesh(x_b, y_b, size=128):\n",
    "    xx, yy = np.meshgrid(np.linspace(-x_b, x_b, size), np.linspace(-y_b, y_b, size))\n",
    "    return np.concatenate([np.expand_dims(xx, axis=-1), np.expand_dims(yy, axis=-1)], axis=2)\n",
    "\n",
    "def change_interval(x, ab=None, cd=[0, 1]):\n",
    "    if ab is not None:\n",
    "        a, b = ab\n",
    "        c, d = cd\n",
    "        xp = c + (x - a) * (d - c) / (b - a)\n",
    "        return xp\n",
    "    else:\n",
    "        return x\n",
    "\n",
    "def make_data(n_examples=20, min_n_circles=1, max_n_circles=10, size=128, on_random_n_circles=False):\n",
    "    if on_random_n_circles:\n",
    "        y = np.random.randint(min_n_circles, max_n_circles + 1, (n_examples, 1))\n",
    "    else:\n",
    "        inter = (max_n_circles - min_n_circles) + 1\n",
    "        y = [x1 for x1 in range(min_n_circles, max_n_circles + 1) for _ in range(n_examples // inter)]\n",
    "        y = np.array(y).reshape(-1, 1)\n",
    "\n",
    "    imgs = [make_circles(n_circles=n.item(), img_size=size) for n in tqdm(y)]\n",
    "    imgs = np.stack(imgs, axis=-1)\n",
    "    imgs = imgs.transpose(2, 0, 1)\n",
    "    imgs = np.expand_dims(imgs, axis=-1)\n",
    "    return imgs, y.reshape(-1, 1)"
   ]
  },
  {
   "cell_type": "code",
   "execution_count": null,
   "metadata": {
    "id": "JqdnFwtwzHKf"
   },
   "outputs": [],
   "source": [
    "circle = make_circles(n_circles=10, r0=None, img_size=128)"
   ]
  },
  {
   "cell_type": "code",
   "execution_count": null,
   "metadata": {
    "colab": {
     "base_uri": "https://localhost:8080/",
     "height": 285
    },
    "id": "XUUJfR-8zKJ4",
    "outputId": "b3f6c3af-9fe0-4633-dc8b-cdd1a79a32f6"
   },
   "outputs": [],
   "source": [
    "plt.imshow(circle, cmap='Greys_r')"
   ]
  },
  {
   "cell_type": "markdown",
   "metadata": {
    "id": "3FkarV9b9u0m"
   },
   "source": [
    "#### Make new dataset"
   ]
  },
  {
   "cell_type": "code",
   "execution_count": 9,
   "metadata": {
    "colab": {
     "base_uri": "https://localhost:8080/"
    },
    "id": "gsgdeOrGziO1",
    "outputId": "00c9469c-48a6-4a9a-ff39-6e0ff79d8bd3"
   },
   "outputs": [],
   "source": [
    "max_n_circles = 20\n",
    "size_w, size_h = 224, 224\n",
    "images_gray, target_gray = make_data(n_examples=1000, max_n_circles=20, size=224)\n",
    "images_gray.shape, target_gray.shape"
   ]
  },
  {
   "cell_type": "code",
   "execution_count": null,
   "metadata": {
    "colab": {
     "base_uri": "https://localhost:8080/"
    },
    "id": "PwCk27j6xzvq",
    "outputId": "115574fd-071f-40f6-a4c0-c916a1e9a57e"
   },
   "outputs": [],
   "source": [
    "os.listdir()"
   ]
  },
  {
   "cell_type": "markdown",
   "metadata": {},
   "source": [
    "Save the files into h5 format"
   ]
  },
  {
   "cell_type": "code",
   "execution_count": null,
   "metadata": {
    "id": "1XTFj5mew2fC"
   },
   "outputs": [],
   "source": [
    "f\"circle_images_{max_n_circles}_{size_w}_{size_h}.hdf5\"\n",
    "with h5py.File(f\"./{file_name}\", \"w\") as f:\n",
    "    f.create_dataset(\"images\", data=images_gray)\n",
    "    f.create_dataset(\"target\", data=target_gray)"
   ]
  },
  {
   "cell_type": "markdown",
   "metadata": {},
   "source": [
    "Check the savings"
   ]
  },
  {
   "cell_type": "code",
   "execution_count": null,
   "metadata": {
    "colab": {
     "base_uri": "https://localhost:8080/"
    },
    "id": "Z3RQopNZyarV",
    "outputId": "a7ef9d0d-4fa3-4055-9259-3ef635458361"
   },
   "outputs": [],
   "source": [
    "os.listdir('drive/MyDrive/Data and datasets')"
   ]
  },
  {
   "cell_type": "markdown",
   "metadata": {},
   "source": [
    "Read the h5 files previously saved"
   ]
  },
  {
   "cell_type": "code",
   "execution_count": null,
   "metadata": {
    "colab": {
     "base_uri": "https://localhost:8080/"
    },
    "id": "r0diXpsi-xm9",
    "outputId": "e2b097fa-5dd8-4ea5-fe24-027c045ce6f8"
   },
   "outputs": [],
   "source": [
    "file_name = f\"circle_images_{max_n_circles}_{size_w}_{size_h}.hdf5\"\n",
    "with h5py.File(f\"./{file_name}\", \"r\") as f:\n",
    "    images_gray = f.get('images')[:]\n",
    "    target_gray = f.get('target')[:]\n",
    "print(images_gray.shape)\n",
    "print(target_gray.shape)"
   ]
  },
  {
   "cell_type": "markdown",
   "metadata": {
    "id": "PmraEoLU-6RW"
   },
   "source": [
    "Distribution of number of circles in gray images"
   ]
  },
  {
   "cell_type": "code",
   "execution_count": null,
   "metadata": {
    "id": "5spEqsFx-v0R"
   },
   "outputs": [],
   "source": [
    "u, c = np.unique(target_gray, return_counts=True)"
   ]
  },
  {
   "cell_type": "markdown",
   "metadata": {},
   "source": [
    "Let's check the distribution of circles with a plot"
   ]
  },
  {
   "cell_type": "code",
   "execution_count": null,
   "metadata": {
    "colab": {
     "base_uri": "https://localhost:8080/",
     "height": 282
    },
    "id": "0LVg5TMo-1A-",
    "outputId": "26e00557-b533-4aa9-bd0c-550c943ff4b9"
   },
   "outputs": [],
   "source": [
    "plt.bar(x=u, height=c)"
   ]
  },
  {
   "cell_type": "markdown",
   "metadata": {
    "id": "bnIQ8qgjXbMp"
   },
   "source": [
    "Equally distributed"
   ]
  },
  {
   "cell_type": "code",
   "execution_count": null,
   "metadata": {},
   "outputs": [],
   "source": []
  }
 ],
 "metadata": {
  "accelerator": "GPU",
  "colab": {
   "provenance": []
  },
  "gpuClass": "standard",
  "kernelspec": {
   "display_name": "Python 3 (ipykernel)",
   "language": "python",
   "name": "python3"
  },
  "language_info": {
   "codemirror_mode": {
    "name": "ipython",
    "version": 3
   },
   "file_extension": ".py",
   "mimetype": "text/x-python",
   "name": "python",
   "nbconvert_exporter": "python",
   "pygments_lexer": "ipython3",
   "version": "3.9.13"
  }
 },
 "nbformat": 4,
 "nbformat_minor": 1
}
